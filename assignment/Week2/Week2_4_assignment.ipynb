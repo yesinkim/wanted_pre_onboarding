{
  "cells": [
    {
      "cell_type": "markdown",
      "metadata": {
        "id": "592U6lXs3d2t"
      },
      "source": [
        "# Week2_4 Assignment\n",
        "\n",
        "## [BASIC](#Basic) \n",
        "- 커스텀 모듈(`helper.py`)에서 **클래스와 함수를 임포트**할 수 있다.\n",
        "- **autograd**의 개념 복습\n",
        "\n",
        "\n",
        "## [CHALLENGE](#Challenge)\n",
        "- train() 함수에 **epoch, scheduler, grad_clipping**을 추가할 수 있다.\n",
        "- **validate() 함수를 구현**할 수 있다.\n",
        "\n",
        "\n",
        "## [ADVANCED](#Advanced)\n",
        "- train() 함수를 사용해 데이터를 **4 epoch 학습**할 수 있다. \n",
        "- **predict 함수를 구현**할 수 있다. \n",
        "- **evaluation metric 구현**할 수 있다. \n",
        "    - accuracy\n",
        "\n",
        "\n",
        "\n",
        "### Reference\n",
        "- [Pytorch Autograd Explain official document](https://pytorch.org/tutorials/beginner/blitz/autograd_tutorial.html)"
      ]
    },
    {
      "cell_type": "code",
      "source": [
        "!pip install transformers"
      ],
      "metadata": {
        "id": "kQ2cyo5PNarH"
      },
      "execution_count": null,
      "outputs": []
    },
    {
      "cell_type": "code",
      "execution_count": 10,
      "metadata": {
        "ExecuteTime": {
          "end_time": "2022-03-23T19:10:42.324499Z",
          "start_time": "2022-03-23T19:10:27.879937Z"
        },
        "id": "KSX-wQA1RD1h"
      },
      "outputs": [],
      "source": [
        "import os\n",
        "import sys\n",
        "import pandas as pd\n",
        "import numpy as np \n",
        "import torch\n",
        "import random"
      ]
    },
    {
      "cell_type": "code",
      "execution_count": 11,
      "metadata": {
        "ExecuteTime": {
          "end_time": "2022-03-23T19:10:42.592884Z",
          "start_time": "2022-03-23T19:10:42.327503Z"
        },
        "id": "MH7RJjtZXOHf"
      },
      "outputs": [],
      "source": [
        "# set seed\n",
        "seed = 7777\n",
        "random.seed(seed)\n",
        "torch.manual_seed(seed)\n",
        "torch.cuda.manual_seed_all(seed)"
      ]
    },
    {
      "cell_type": "code",
      "execution_count": 12,
      "metadata": {
        "id": "6WagJcj-Ud4L"
      },
      "outputs": [],
      "source": [
        "# from google.colab import drive\n",
        "# drive.mount('/content/drive')"
      ]
    },
    {
      "cell_type": "code",
      "execution_count": 13,
      "metadata": {
        "id": "T0n0gWJ1ozGd"
      },
      "outputs": [],
      "source": [
        "# 현재위치 확인\n",
        "# os.getcwd()\n",
        "# !pwd"
      ]
    },
    {
      "cell_type": "code",
      "execution_count": 14,
      "metadata": {
        "ExecuteTime": {
          "end_time": "2022-03-23T19:14:31.413830Z",
          "start_time": "2022-03-23T19:14:23.035253Z"
        },
        "colab": {
          "base_uri": "https://localhost:8080/",
          "height": 145,
          "referenced_widgets": [
            "cb47e32487a64912b834d3c13052d9d6",
            "7a25876fd356489c8f60ab328e1592c7",
            "565f8beb27684a6d99678439cea9f0ee",
            "5ffba08288e549e28be06edf7063cf85",
            "53a315ff31004724850ffc5004b0fe6f",
            "3061342438d84ceeaee139ac471e43a9",
            "66a043e3dbc541f5a3b437bd006e5ed4",
            "d3044f92a35b4285b212083857fb96cb",
            "dd855e8e0aef4cd6b92d5745db01ed38",
            "4c648e6d762c4018af8e353bb905031b",
            "9da05086993e46c2ba6ea7396ad87846",
            "a947a72747c248d79ced04a6e9f35bb8",
            "387cbfdd17384c9ca1a83c96dd5ffaa5",
            "f8b2283d00c44694b9c4419045d85cc4",
            "ff2fb88e39c0424887a40c6c9b20b6fc",
            "0df9ea59480b4da1b39dde9845c5c25a",
            "deea5dcadb0340b586df4a944b9cc0e4",
            "eef243f20f4049e48006fd5a64e26cbc",
            "6e106309162c49d78c06a712e6a31c8e",
            "16c574d949e0486b89d8da3ac77df29f",
            "f44a734aef01492db46d40f05bf9e41d",
            "10343ca0a19b436da52f9c815ceab761",
            "37ef0421585049cd8ca0427c6ef4932b",
            "b3509c385f09456f91681c9793bdc513",
            "425874ed32eb40cfb8ce86a9dc41b9ca",
            "fe950a11876048168fa2e2a3640788ff",
            "16a711e6f9b244738bc38631578374df",
            "5ce04afe276a43b688b3b9269011d27e",
            "16368c4736254ccaa2ada8058c08bb1b",
            "cb37a13193384548b1a366c4735a1ffc",
            "fe32cc3dd5ab4cfbbe7aa9f38a8fdcb7",
            "f7d9f9dab7c547bea16849b7cfba5bbc",
            "bcd2a91ab5ed4eb4b849aa6094083f63",
            "b7c06941dc614d65a32b85188da20bda",
            "b2d070b8ed914b52a3cf4c57f52be071",
            "7f5ff135fa644e4a96bf6f616d655c19",
            "3a9bfff8d2694fb894ea55b4cbb45c4b",
            "2bd64d4e034a4f94b88a9c1a163960bf",
            "716c066f6adb4f1b89d5abfd7d84a678",
            "477368b9682043a69b417c60f744b266",
            "6657d0ccb43246dc9375b4fd6430ecd1",
            "09aa6bc554334390a82f211dc2632917",
            "3302666d768b4b5fba9dc3c5161fee37",
            "98fb543020df498d9755a911b9ba783b"
          ]
        },
        "id": "N84mZeYMUFxJ",
        "outputId": "ab182505-1180-4235-f549-71c296238111"
      },
      "outputs": [
        {
          "output_type": "display_data",
          "data": {
            "text/plain": [
              "Downloading:   0%|          | 0.00/243k [00:00<?, ?B/s]"
            ],
            "application/vnd.jupyter.widget-view+json": {
              "version_major": 2,
              "version_minor": 0,
              "model_id": "cb47e32487a64912b834d3c13052d9d6"
            }
          },
          "metadata": {}
        },
        {
          "output_type": "display_data",
          "data": {
            "text/plain": [
              "Downloading:   0%|          | 0.00/125 [00:00<?, ?B/s]"
            ],
            "application/vnd.jupyter.widget-view+json": {
              "version_major": 2,
              "version_minor": 0,
              "model_id": "a947a72747c248d79ced04a6e9f35bb8"
            }
          },
          "metadata": {}
        },
        {
          "output_type": "display_data",
          "data": {
            "text/plain": [
              "Downloading:   0%|          | 0.00/289 [00:00<?, ?B/s]"
            ],
            "application/vnd.jupyter.widget-view+json": {
              "version_major": 2,
              "version_minor": 0,
              "model_id": "37ef0421585049cd8ca0427c6ef4932b"
            }
          },
          "metadata": {}
        },
        {
          "output_type": "display_data",
          "data": {
            "text/plain": [
              "Downloading:   0%|          | 0.00/425 [00:00<?, ?B/s]"
            ],
            "application/vnd.jupyter.widget-view+json": {
              "version_major": 2,
              "version_minor": 0,
              "model_id": "b7c06941dc614d65a32b85188da20bda"
            }
          },
          "metadata": {}
        }
      ],
      "source": [
        "# helper 모듈을 import하면 이전에 구현했던 다양한 함수 및 클래스를 사용할 수 있음 \n",
        "# 함수: set_device()\n",
        "# 함수: custom_collate_fn() \n",
        "# 클래스: CustomDataset\n",
        "# 클래스: CustomClassifier\n",
        "# 가 import 됨\n",
        "\n",
        "\n",
        "from helper import *\n",
        "from torch.utils.data import RandomSampler, SequentialSampler"
      ]
    },
    {
      "cell_type": "code",
      "execution_count": 15,
      "metadata": {
        "ExecuteTime": {
          "end_time": "2022-03-23T19:14:33.306641Z",
          "start_time": "2022-03-23T19:14:33.154808Z"
        },
        "colab": {
          "base_uri": "https://localhost:8080/"
        },
        "id": "oR5EWmh5UFxK",
        "outputId": "f1ee12fc-2c2f-491a-a814-3a66ad38862e"
      },
      "outputs": [
        {
          "output_type": "stream",
          "name": "stdout",
          "text": [
            "cpu\n",
            "device: None\n"
          ]
        }
      ],
      "source": [
        "# device\n",
        "device = set_device()\n",
        "print(f\"device: {device}\")"
      ]
    },
    {
      "cell_type": "markdown",
      "metadata": {
        "id": "pkNxrCV45Q3m"
      },
      "source": [
        "## Basic"
      ]
    },
    {
      "cell_type": "markdown",
      "metadata": {
        "id": "9YBUQykS5Q3n"
      },
      "source": [
        "### 모듈에서 클래스와 함수를 임포트해 다음을 구현\n",
        "- train_dataset, train_dataloader\n",
        "- valid_dataset, valid_dataloader\n",
        "- test_dataset, test_dataloader"
      ]
    },
    {
      "cell_type": "code",
      "execution_count": 16,
      "metadata": {
        "colab": {
          "base_uri": "https://localhost:8080/"
        },
        "id": "cjNksUEwGACb",
        "outputId": "fb44888d-00de-4496-d0e5-c62ac8c939a1"
      },
      "outputs": [
        {
          "output_type": "stream",
          "name": "stdout",
          "text": [
            "--2022-03-23 19:17:33--  https://raw.githubusercontent.com/ChristinaROK/PreOnboarding_AI_assets/e56006adfac42f8a2975db0ebbe60eacbe1c6b11/data/sample_df.csv\n",
            "Resolving raw.githubusercontent.com (raw.githubusercontent.com)... 185.199.111.133, 185.199.110.133, 185.199.108.133, ...\n",
            "Connecting to raw.githubusercontent.com (raw.githubusercontent.com)|185.199.111.133|:443... connected.\n",
            "HTTP request sent, awaiting response... 200 OK\n",
            "Length: 971625 (949K) [text/plain]\n",
            "Saving to: ‘sample_df.csv’\n",
            "\n",
            "sample_df.csv       100%[===================>] 948.85K  --.-KB/s    in 0.05s   \n",
            "\n",
            "2022-03-23 19:17:33 (19.7 MB/s) - ‘sample_df.csv’ saved [971625/971625]\n",
            "\n"
          ]
        }
      ],
      "source": [
        "# train dataframe 다운로드\n",
        "!wget https://raw.githubusercontent.com/ChristinaROK/PreOnboarding_AI_assets/e56006adfac42f8a2975db0ebbe60eacbe1c6b11/data/sample_df.csv"
      ]
    },
    {
      "cell_type": "code",
      "execution_count": 17,
      "metadata": {
        "colab": {
          "base_uri": "https://localhost:8080/"
        },
        "id": "kXfk8ZEHGB0v",
        "outputId": "1e6ce773-f3c9-4f6e-922f-1445775e0f52"
      },
      "outputs": [
        {
          "output_type": "stream",
          "name": "stdout",
          "text": [
            "--2022-03-23 19:17:34--  https://raw.githubusercontent.com/ChristinaROK/PreOnboarding_AI_assets/main/data/sample_df_test.csv\n",
            "Resolving raw.githubusercontent.com (raw.githubusercontent.com)... 185.199.108.133, 185.199.109.133, 185.199.110.133, ...\n",
            "Connecting to raw.githubusercontent.com (raw.githubusercontent.com)|185.199.108.133|:443... connected.\n",
            "HTTP request sent, awaiting response... 200 OK\n",
            "Length: 101383 (99K) [text/plain]\n",
            "Saving to: ‘sample_df_test.csv’\n",
            "\n",
            "\rsample_df_test.csv    0%[                    ]       0  --.-KB/s               \rsample_df_test.csv  100%[===================>]  99.01K  --.-KB/s    in 0.02s   \n",
            "\n",
            "2022-03-23 19:17:35 (6.11 MB/s) - ‘sample_df_test.csv’ saved [101383/101383]\n",
            "\n"
          ]
        }
      ],
      "source": [
        "# test dataframe 다운로드\n",
        "!wget https://raw.githubusercontent.com/ChristinaROK/PreOnboarding_AI_assets/main/data/sample_df_test.csv"
      ]
    },
    {
      "cell_type": "code",
      "execution_count": 18,
      "metadata": {
        "ExecuteTime": {
          "end_time": "2022-02-02T04:01:53.037044Z",
          "start_time": "2022-02-02T04:01:52.707669Z"
        },
        "colab": {
          "base_uri": "https://localhost:8080/"
        },
        "id": "KVo5dPnmUFxK",
        "outputId": "1dc3ab07-615c-4273-9c5a-7bcf77319b24"
      },
      "outputs": [
        {
          "output_type": "stream",
          "name": "stdout",
          "text": [
            "train shape : (10000, 3)\n",
            "test shape : (1000, 3)\n"
          ]
        }
      ],
      "source": [
        "# 학습 & 평가 데이터셋 로드\n",
        "# 학습 및 평가 샘플 데이터 개수는 각각 10,000개, 1,000개\n",
        "\n",
        "df_train = pd.read_csv('sample_df.csv')\n",
        "df_test = pd.read_csv('sample_df_test.csv')\n",
        "\n",
        "print(f\"train shape : {df_train.shape}\")\n",
        "print(f\"test shape : {df_test.shape}\")"
      ]
    },
    {
      "cell_type": "code",
      "execution_count": 19,
      "metadata": {
        "colab": {
          "base_uri": "https://localhost:8080/",
          "height": 250
        },
        "id": "979IcWFgVhoe",
        "outputId": "52f16e1c-0443-4870-d66e-b87291b4514f"
      },
      "outputs": [
        {
          "output_type": "execute_result",
          "data": {
            "text/plain": [
              "        id                                           document  label\n",
              "0  8525343  나 이거 더빙을 누가하는지 모르고 봤는데 왠지 더빙이 구리더라...더빙이 너무 별로였음.      0\n",
              "1  4572888                현암이 소지섭이었으면 좋았겠는데..스토리각색도 좀 깔끔하게...      0\n",
              "2  8504845                                      ㅎㅎㅎ 대단하네 ㅜ,.ㅡ      0\n",
              "3  5003367                            이거보고 돈날린 기억이...........      0\n",
              "4  3015049                                  한국영화 어쩌다 이지경까지 ㅠㅠ      0"
            ],
            "text/html": [
              "\n",
              "  <div id=\"df-b3320f25-681b-4e2f-a0f2-82e6a6d50211\">\n",
              "    <div class=\"colab-df-container\">\n",
              "      <div>\n",
              "<style scoped>\n",
              "    .dataframe tbody tr th:only-of-type {\n",
              "        vertical-align: middle;\n",
              "    }\n",
              "\n",
              "    .dataframe tbody tr th {\n",
              "        vertical-align: top;\n",
              "    }\n",
              "\n",
              "    .dataframe thead th {\n",
              "        text-align: right;\n",
              "    }\n",
              "</style>\n",
              "<table border=\"1\" class=\"dataframe\">\n",
              "  <thead>\n",
              "    <tr style=\"text-align: right;\">\n",
              "      <th></th>\n",
              "      <th>id</th>\n",
              "      <th>document</th>\n",
              "      <th>label</th>\n",
              "    </tr>\n",
              "  </thead>\n",
              "  <tbody>\n",
              "    <tr>\n",
              "      <th>0</th>\n",
              "      <td>8525343</td>\n",
              "      <td>나 이거 더빙을 누가하는지 모르고 봤는데 왠지 더빙이 구리더라...더빙이 너무 별로였음.</td>\n",
              "      <td>0</td>\n",
              "    </tr>\n",
              "    <tr>\n",
              "      <th>1</th>\n",
              "      <td>4572888</td>\n",
              "      <td>현암이 소지섭이었으면 좋았겠는데..스토리각색도 좀 깔끔하게...</td>\n",
              "      <td>0</td>\n",
              "    </tr>\n",
              "    <tr>\n",
              "      <th>2</th>\n",
              "      <td>8504845</td>\n",
              "      <td>ㅎㅎㅎ 대단하네 ㅜ,.ㅡ</td>\n",
              "      <td>0</td>\n",
              "    </tr>\n",
              "    <tr>\n",
              "      <th>3</th>\n",
              "      <td>5003367</td>\n",
              "      <td>이거보고 돈날린 기억이...........</td>\n",
              "      <td>0</td>\n",
              "    </tr>\n",
              "    <tr>\n",
              "      <th>4</th>\n",
              "      <td>3015049</td>\n",
              "      <td>한국영화 어쩌다 이지경까지 ㅠㅠ</td>\n",
              "      <td>0</td>\n",
              "    </tr>\n",
              "  </tbody>\n",
              "</table>\n",
              "</div>\n",
              "      <button class=\"colab-df-convert\" onclick=\"convertToInteractive('df-b3320f25-681b-4e2f-a0f2-82e6a6d50211')\"\n",
              "              title=\"Convert this dataframe to an interactive table.\"\n",
              "              style=\"display:none;\">\n",
              "        \n",
              "  <svg xmlns=\"http://www.w3.org/2000/svg\" height=\"24px\"viewBox=\"0 0 24 24\"\n",
              "       width=\"24px\">\n",
              "    <path d=\"M0 0h24v24H0V0z\" fill=\"none\"/>\n",
              "    <path d=\"M18.56 5.44l.94 2.06.94-2.06 2.06-.94-2.06-.94-.94-2.06-.94 2.06-2.06.94zm-11 1L8.5 8.5l.94-2.06 2.06-.94-2.06-.94L8.5 2.5l-.94 2.06-2.06.94zm10 10l.94 2.06.94-2.06 2.06-.94-2.06-.94-.94-2.06-.94 2.06-2.06.94z\"/><path d=\"M17.41 7.96l-1.37-1.37c-.4-.4-.92-.59-1.43-.59-.52 0-1.04.2-1.43.59L10.3 9.45l-7.72 7.72c-.78.78-.78 2.05 0 2.83L4 21.41c.39.39.9.59 1.41.59.51 0 1.02-.2 1.41-.59l7.78-7.78 2.81-2.81c.8-.78.8-2.07 0-2.86zM5.41 20L4 18.59l7.72-7.72 1.47 1.35L5.41 20z\"/>\n",
              "  </svg>\n",
              "      </button>\n",
              "      \n",
              "  <style>\n",
              "    .colab-df-container {\n",
              "      display:flex;\n",
              "      flex-wrap:wrap;\n",
              "      gap: 12px;\n",
              "    }\n",
              "\n",
              "    .colab-df-convert {\n",
              "      background-color: #E8F0FE;\n",
              "      border: none;\n",
              "      border-radius: 50%;\n",
              "      cursor: pointer;\n",
              "      display: none;\n",
              "      fill: #1967D2;\n",
              "      height: 32px;\n",
              "      padding: 0 0 0 0;\n",
              "      width: 32px;\n",
              "    }\n",
              "\n",
              "    .colab-df-convert:hover {\n",
              "      background-color: #E2EBFA;\n",
              "      box-shadow: 0px 1px 2px rgba(60, 64, 67, 0.3), 0px 1px 3px 1px rgba(60, 64, 67, 0.15);\n",
              "      fill: #174EA6;\n",
              "    }\n",
              "\n",
              "    [theme=dark] .colab-df-convert {\n",
              "      background-color: #3B4455;\n",
              "      fill: #D2E3FC;\n",
              "    }\n",
              "\n",
              "    [theme=dark] .colab-df-convert:hover {\n",
              "      background-color: #434B5C;\n",
              "      box-shadow: 0px 1px 3px 1px rgba(0, 0, 0, 0.15);\n",
              "      filter: drop-shadow(0px 1px 2px rgba(0, 0, 0, 0.3));\n",
              "      fill: #FFFFFF;\n",
              "    }\n",
              "  </style>\n",
              "\n",
              "      <script>\n",
              "        const buttonEl =\n",
              "          document.querySelector('#df-b3320f25-681b-4e2f-a0f2-82e6a6d50211 button.colab-df-convert');\n",
              "        buttonEl.style.display =\n",
              "          google.colab.kernel.accessAllowed ? 'block' : 'none';\n",
              "\n",
              "        async function convertToInteractive(key) {\n",
              "          const element = document.querySelector('#df-b3320f25-681b-4e2f-a0f2-82e6a6d50211');\n",
              "          const dataTable =\n",
              "            await google.colab.kernel.invokeFunction('convertToInteractive',\n",
              "                                                     [key], {});\n",
              "          if (!dataTable) return;\n",
              "\n",
              "          const docLinkHtml = 'Like what you see? Visit the ' +\n",
              "            '<a target=\"_blank\" href=https://colab.research.google.com/notebooks/data_table.ipynb>data table notebook</a>'\n",
              "            + ' to learn more about interactive tables.';\n",
              "          element.innerHTML = '';\n",
              "          dataTable['output_type'] = 'display_data';\n",
              "          await google.colab.output.renderOutput(dataTable, element);\n",
              "          const docLink = document.createElement('div');\n",
              "          docLink.innerHTML = docLinkHtml;\n",
              "          element.appendChild(docLink);\n",
              "        }\n",
              "      </script>\n",
              "    </div>\n",
              "  </div>\n",
              "  "
            ]
          },
          "metadata": {},
          "execution_count": 19
        }
      ],
      "source": [
        "df_train.head()"
      ]
    },
    {
      "cell_type": "code",
      "execution_count": 20,
      "metadata": {
        "ExecuteTime": {
          "end_time": "2022-02-02T04:01:53.085720Z",
          "start_time": "2022-02-02T04:01:53.081413Z"
        },
        "colab": {
          "base_uri": "https://localhost:8080/"
        },
        "id": "Ql82Ew2VUFxM",
        "outputId": "cace2544-75a1-4996-de81-465ffae6b35e"
      },
      "outputs": [
        {
          "output_type": "stream",
          "name": "stdout",
          "text": [
            "Train Dataset len: 10000\n",
            "Train Dataset 1st element: ('나 이거 더빙을 누가하는지 모르고 봤는데 왠지 더빙이 구리더라...더빙이 너무 별로였음.', 0)\n",
            "Test Dataset len: 1000\n",
            "Test Dataset 1st element: ('신용문객잔 보고 후속편인줄 알고 봤더만 완전 개판이네 18.. 이련결 그냥 절에나 쳐 들어 가라.. 회오리에서 싸우는 신 참 가관이더라 .. 서극도 완전 쓰레기 감독이 다 됐구나.. 액션도 쓰레기고 배우들 연기도 참 가관이더라 18', 0)\n"
          ]
        }
      ],
      "source": [
        "# Dataset 구현\n",
        "# helper.py에 있는 CustomDataset 활용하여 train datset, test dataset 만들기\n",
        "\n",
        "train_dataset = CustomDataset(df_train['document'], df_train['label'])\n",
        "test_dataset = CustomDataset(df_test['document'], df_test['label'])\n",
        "\n",
        "print(f\"Train Dataset len: {len(train_dataset)}\")\n",
        "print(f\"Train Dataset 1st element: {train_dataset[0]}\")\n",
        "\n",
        "print(f\"Test Dataset len: {len(test_dataset)}\")\n",
        "print(f\"Test Dataset 1st element: {test_dataset[0]}\")\n"
      ]
    },
    {
      "cell_type": "code",
      "execution_count": 21,
      "metadata": {
        "id": "_2FqexhcW1Yy"
      },
      "outputs": [],
      "source": [
        "from torch.utils.data import random_split"
      ]
    },
    {
      "cell_type": "code",
      "execution_count": 22,
      "metadata": {
        "ExecuteTime": {
          "end_time": "2022-02-02T04:01:53.152070Z",
          "start_time": "2022-02-02T04:01:53.145410Z"
        },
        "colab": {
          "base_uri": "https://localhost:8080/"
        },
        "id": "7WUY6h8WUFxM",
        "outputId": "bf05f440-7517-4f71-9241-f2d2dbcc7be1"
      },
      "outputs": [
        {
          "output_type": "stream",
          "name": "stdout",
          "text": [
            "Train dataset len: 9000\n",
            "Valid dataset len: 1000\n"
          ]
        }
      ],
      "source": [
        "# Train Dataset을 학습과 검증 셋으로 분리\n",
        "# 학습 셋과 검증 셋의 비율은 9:1\n",
        "# torch.utils.data에서 제공되는 데이터 세트를 임의로 분할할 수 있는 함수 찾아서 사용\n",
        "n_train_sample = df_train.shape[0]\n",
        "\n",
        "n_train = int(n_train_sample*0.9)\n",
        "n_valid = n_train_sample - n_train \n",
        "train_dataset, valid_dataset = random_split(train_dataset, [n_train, n_valid])\n",
        "\n",
        "print(f\"Train dataset len: {len(train_dataset)}\")\n",
        "print(f\"Valid dataset len: {len(valid_dataset)}\")"
      ]
    },
    {
      "cell_type": "code",
      "execution_count": 23,
      "metadata": {
        "colab": {
          "base_uri": "https://localhost:8080/"
        },
        "id": "53Bzu5kfYNuf",
        "outputId": "201a0275-256c-423c-85ab-5e056d12f9be"
      },
      "outputs": [
        {
          "output_type": "execute_result",
          "data": {
            "text/plain": [
              "(7974             나는 행복해지고 싶다. 또한 다른 사람을 행복하게 만드는 사람이고 싶다.\n",
              " 5660            이런 명작을 오늘 티비에서 봤는데 핵꿀잼이네요 10점이상 주고 싶을정도네요\n",
              " 4367    정애리는 툭하면 아랫사람 빰을 사정없이 때리는군요.뭐이런 개같은 경우가 있는지.막장...\n",
              " 2400                              키타노다케시의 소나티네는 간결하기라도하지.\n",
              " Name: document, dtype: object, 7974    1\n",
              " 5660    1\n",
              " 4367    0\n",
              " 2400    0\n",
              " Name: label, dtype: int64)"
            ]
          },
          "metadata": {},
          "execution_count": 23
        }
      ],
      "source": [
        "train_dataset[:4]"
      ]
    },
    {
      "cell_type": "code",
      "execution_count": 48,
      "metadata": {
        "ExecuteTime": {
          "end_time": "2022-02-02T04:01:53.268838Z",
          "start_time": "2022-02-02T04:01:53.263780Z"
        },
        "colab": {
          "base_uri": "https://localhost:8080/"
        },
        "id": "H5nc7SpTUFxM",
        "outputId": "b2e9f643-16c3-4550-dd43-f18b8fd91bcd"
      },
      "outputs": [
        {
          "output_type": "stream",
          "name": "stdout",
          "text": [
            "Train dataloader # steps: 282\n",
            "Valid dataloader # steps: 32\n",
            "Test dataloader # steps: 32\n"
          ]
        }
      ],
      "source": [
        "# DataLoader 구현\n",
        "# train과 validation의 batch size는 각각 32, 64로 설정\n",
        "# test의 batch size는 validation과 동일\n",
        "# train에 사용할 DataLoader에서는 sampler로 RandomSampler 사용\n",
        "# validation과 test에 사용할 DataLoader에서는 sampler로 SequentialSampler 사용\n",
        "# 모든 DataLoader의 collate_fn은 helper.py에 있는 custom_collate_fn 사용\n",
        "\n",
        "train_batch_size = 32\n",
        "valid_batch_size = 64\n",
        "\n",
        "train_dataloader = DataLoader(\n",
        "    train_dataset,\n",
        "    batch_size=train_batch_size,\n",
        "    sampler=RandomSampler(train_dataset),\n",
        "    collate_fn=custom_collate_fn\n",
        ")\n",
        "\n",
        "valid_dataloader = DataLoader(\n",
        "    valid_dataset,\n",
        "    batch_size=train_batch_size,\n",
        "    sampler=SequentialSampler(valid_dataset),\n",
        "    collate_fn=custom_collate_fn\n",
        ")\n",
        "\n",
        "test_dataloader = DataLoader(\n",
        "    test_dataset,\n",
        "    batch_size=train_batch_size,\n",
        "    sampler=SequentialSampler(test_dataset),\n",
        "    collate_fn=custom_collate_fn\n",
        ")\n",
        "\n",
        "print(f\"Train dataloader # steps: {len(train_dataloader)}\")\n",
        "print(f\"Valid dataloader # steps: {len(valid_dataloader)}\")\n",
        "print(f\"Test dataloader # steps: {len(test_dataloader)}\")"
      ]
    },
    {
      "cell_type": "markdown",
      "metadata": {
        "id": "9kEgqvBIUFxN"
      },
      "source": [
        "### `auto_grad` 개념 복습\n",
        "- torch의 `auto_grad` 기능\n",
        "    - pytorch는 `requires_grad` 파리미터의 값이 True인 텐서에 한해서 미분값을 자동으로 계산한다.\n",
        "    - 미분값은 `loss.backward()` 가 호출될 때 자동으로 계산된다."
      ]
    },
    {
      "cell_type": "code",
      "execution_count": 25,
      "metadata": {
        "id": "dEg3tMjUk-lx"
      },
      "outputs": [],
      "source": [
        "from transformers import BertTokenizer, BertModel\n",
        "tokenizer_bert = BertTokenizer.from_pretrained(\"klue/bert-base\")"
      ]
    },
    {
      "cell_type": "markdown",
      "metadata": {
        "id": "I7wvIWLh5m1p"
      },
      "source": [
        "#### 해결해야 할 오류\n",
        " *Error : BertModel이 인식되지 않는 오류* \n",
        " - CustomClassifier 클래스를 다시 정의해주고 문제푼 이후에 해결 해볼 것.\n",
        " - ![image.png](data:image/png;base64,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)"
      ]
    },
    {
      "cell_type": "code",
      "execution_count": 50,
      "metadata": {
        "ExecuteTime": {
          "end_time": "2022-01-31T13:45:23.502936Z",
          "start_time": "2022-01-31T13:45:20.029987Z"
        },
        "colab": {
          "base_uri": "https://localhost:8080/"
        },
        "id": "oYjYpQ1DUFxN",
        "outputId": "389c4807-1577-4b46-8880-b70d3ffff8dc"
      },
      "outputs": [
        {
          "output_type": "stream",
          "name": "stderr",
          "text": [
            "Some weights of the model checkpoint at klue/bert-base were not used when initializing BertModel: ['cls.seq_relationship.bias', 'cls.predictions.transform.dense.bias', 'cls.predictions.decoder.bias', 'cls.predictions.transform.dense.weight', 'cls.predictions.decoder.weight', 'cls.seq_relationship.weight', 'cls.predictions.transform.LayerNorm.bias', 'cls.predictions.bias', 'cls.predictions.transform.LayerNorm.weight']\n",
            "- This IS expected if you are initializing BertModel from the checkpoint of a model trained on another task or with another architecture (e.g. initializing a BertForSequenceClassification model from a BertForPreTraining model).\n",
            "- This IS NOT expected if you are initializing BertModel from the checkpoint of a model that you expect to be exactly identical (initializing a BertForSequenceClassification model from a BertForSequenceClassification model).\n"
          ]
        }
      ],
      "source": [
        "# helper.py에 있는 CustomClassifier 모델을 로드해 model_freeze 변수에 instance를 생성\n",
        "# freeze_base=True\n",
        "hidden_size=768\n",
        "n_label=2\n",
        "\n",
        "model_freeze = CustomClassifier(hidden_size, n_label)"
      ]
    },
    {
      "cell_type": "code",
      "execution_count": 31,
      "metadata": {
        "ExecuteTime": {
          "end_time": "2022-01-31T13:45:34.604914Z",
          "start_time": "2022-01-31T13:45:34.586711Z"
        },
        "colab": {
          "base_uri": "https://localhost:8080/"
        },
        "id": "XxNFh8KZUFxN",
        "outputId": "f6d0f75d-e613-4037-8ee3-bb1fc4de591b"
      },
      "outputs": [
        {
          "output_type": "execute_result",
          "data": {
            "text/plain": [
              "<bound method Module.get_parameter of CustomClassifier(\n",
              "  (bert): BertModel(\n",
              "    (embeddings): BertEmbeddings(\n",
              "      (word_embeddings): Embedding(32000, 768, padding_idx=0)\n",
              "      (position_embeddings): Embedding(512, 768)\n",
              "      (token_type_embeddings): Embedding(2, 768)\n",
              "      (LayerNorm): LayerNorm((768,), eps=1e-12, elementwise_affine=True)\n",
              "      (dropout): Dropout(p=0.1, inplace=False)\n",
              "    )\n",
              "    (encoder): BertEncoder(\n",
              "      (layer): ModuleList(\n",
              "        (0): BertLayer(\n",
              "          (attention): BertAttention(\n",
              "            (self): BertSelfAttention(\n",
              "              (query): Linear(in_features=768, out_features=768, bias=True)\n",
              "              (key): Linear(in_features=768, out_features=768, bias=True)\n",
              "              (value): Linear(in_features=768, out_features=768, bias=True)\n",
              "              (dropout): Dropout(p=0.1, inplace=False)\n",
              "            )\n",
              "            (output): BertSelfOutput(\n",
              "              (dense): Linear(in_features=768, out_features=768, bias=True)\n",
              "              (LayerNorm): LayerNorm((768,), eps=1e-12, elementwise_affine=True)\n",
              "              (dropout): Dropout(p=0.1, inplace=False)\n",
              "            )\n",
              "          )\n",
              "          (intermediate): BertIntermediate(\n",
              "            (dense): Linear(in_features=768, out_features=3072, bias=True)\n",
              "            (intermediate_act_fn): GELUActivation()\n",
              "          )\n",
              "          (output): BertOutput(\n",
              "            (dense): Linear(in_features=3072, out_features=768, bias=True)\n",
              "            (LayerNorm): LayerNorm((768,), eps=1e-12, elementwise_affine=True)\n",
              "            (dropout): Dropout(p=0.1, inplace=False)\n",
              "          )\n",
              "        )\n",
              "        (1): BertLayer(\n",
              "          (attention): BertAttention(\n",
              "            (self): BertSelfAttention(\n",
              "              (query): Linear(in_features=768, out_features=768, bias=True)\n",
              "              (key): Linear(in_features=768, out_features=768, bias=True)\n",
              "              (value): Linear(in_features=768, out_features=768, bias=True)\n",
              "              (dropout): Dropout(p=0.1, inplace=False)\n",
              "            )\n",
              "            (output): BertSelfOutput(\n",
              "              (dense): Linear(in_features=768, out_features=768, bias=True)\n",
              "              (LayerNorm): LayerNorm((768,), eps=1e-12, elementwise_affine=True)\n",
              "              (dropout): Dropout(p=0.1, inplace=False)\n",
              "            )\n",
              "          )\n",
              "          (intermediate): BertIntermediate(\n",
              "            (dense): Linear(in_features=768, out_features=3072, bias=True)\n",
              "            (intermediate_act_fn): GELUActivation()\n",
              "          )\n",
              "          (output): BertOutput(\n",
              "            (dense): Linear(in_features=3072, out_features=768, bias=True)\n",
              "            (LayerNorm): LayerNorm((768,), eps=1e-12, elementwise_affine=True)\n",
              "            (dropout): Dropout(p=0.1, inplace=False)\n",
              "          )\n",
              "        )\n",
              "        (2): BertLayer(\n",
              "          (attention): BertAttention(\n",
              "            (self): BertSelfAttention(\n",
              "              (query): Linear(in_features=768, out_features=768, bias=True)\n",
              "              (key): Linear(in_features=768, out_features=768, bias=True)\n",
              "              (value): Linear(in_features=768, out_features=768, bias=True)\n",
              "              (dropout): Dropout(p=0.1, inplace=False)\n",
              "            )\n",
              "            (output): BertSelfOutput(\n",
              "              (dense): Linear(in_features=768, out_features=768, bias=True)\n",
              "              (LayerNorm): LayerNorm((768,), eps=1e-12, elementwise_affine=True)\n",
              "              (dropout): Dropout(p=0.1, inplace=False)\n",
              "            )\n",
              "          )\n",
              "          (intermediate): BertIntermediate(\n",
              "            (dense): Linear(in_features=768, out_features=3072, bias=True)\n",
              "            (intermediate_act_fn): GELUActivation()\n",
              "          )\n",
              "          (output): BertOutput(\n",
              "            (dense): Linear(in_features=3072, out_features=768, bias=True)\n",
              "            (LayerNorm): LayerNorm((768,), eps=1e-12, elementwise_affine=True)\n",
              "            (dropout): Dropout(p=0.1, inplace=False)\n",
              "          )\n",
              "        )\n",
              "        (3): BertLayer(\n",
              "          (attention): BertAttention(\n",
              "            (self): BertSelfAttention(\n",
              "              (query): Linear(in_features=768, out_features=768, bias=True)\n",
              "              (key): Linear(in_features=768, out_features=768, bias=True)\n",
              "              (value): Linear(in_features=768, out_features=768, bias=True)\n",
              "              (dropout): Dropout(p=0.1, inplace=False)\n",
              "            )\n",
              "            (output): BertSelfOutput(\n",
              "              (dense): Linear(in_features=768, out_features=768, bias=True)\n",
              "              (LayerNorm): LayerNorm((768,), eps=1e-12, elementwise_affine=True)\n",
              "              (dropout): Dropout(p=0.1, inplace=False)\n",
              "            )\n",
              "          )\n",
              "          (intermediate): BertIntermediate(\n",
              "            (dense): Linear(in_features=768, out_features=3072, bias=True)\n",
              "            (intermediate_act_fn): GELUActivation()\n",
              "          )\n",
              "          (output): BertOutput(\n",
              "            (dense): Linear(in_features=3072, out_features=768, bias=True)\n",
              "            (LayerNorm): LayerNorm((768,), eps=1e-12, elementwise_affine=True)\n",
              "            (dropout): Dropout(p=0.1, inplace=False)\n",
              "          )\n",
              "        )\n",
              "        (4): BertLayer(\n",
              "          (attention): BertAttention(\n",
              "            (self): BertSelfAttention(\n",
              "              (query): Linear(in_features=768, out_features=768, bias=True)\n",
              "              (key): Linear(in_features=768, out_features=768, bias=True)\n",
              "              (value): Linear(in_features=768, out_features=768, bias=True)\n",
              "              (dropout): Dropout(p=0.1, inplace=False)\n",
              "            )\n",
              "            (output): BertSelfOutput(\n",
              "              (dense): Linear(in_features=768, out_features=768, bias=True)\n",
              "              (LayerNorm): LayerNorm((768,), eps=1e-12, elementwise_affine=True)\n",
              "              (dropout): Dropout(p=0.1, inplace=False)\n",
              "            )\n",
              "          )\n",
              "          (intermediate): BertIntermediate(\n",
              "            (dense): Linear(in_features=768, out_features=3072, bias=True)\n",
              "            (intermediate_act_fn): GELUActivation()\n",
              "          )\n",
              "          (output): BertOutput(\n",
              "            (dense): Linear(in_features=3072, out_features=768, bias=True)\n",
              "            (LayerNorm): LayerNorm((768,), eps=1e-12, elementwise_affine=True)\n",
              "            (dropout): Dropout(p=0.1, inplace=False)\n",
              "          )\n",
              "        )\n",
              "        (5): BertLayer(\n",
              "          (attention): BertAttention(\n",
              "            (self): BertSelfAttention(\n",
              "              (query): Linear(in_features=768, out_features=768, bias=True)\n",
              "              (key): Linear(in_features=768, out_features=768, bias=True)\n",
              "              (value): Linear(in_features=768, out_features=768, bias=True)\n",
              "              (dropout): Dropout(p=0.1, inplace=False)\n",
              "            )\n",
              "            (output): BertSelfOutput(\n",
              "              (dense): Linear(in_features=768, out_features=768, bias=True)\n",
              "              (LayerNorm): LayerNorm((768,), eps=1e-12, elementwise_affine=True)\n",
              "              (dropout): Dropout(p=0.1, inplace=False)\n",
              "            )\n",
              "          )\n",
              "          (intermediate): BertIntermediate(\n",
              "            (dense): Linear(in_features=768, out_features=3072, bias=True)\n",
              "            (intermediate_act_fn): GELUActivation()\n",
              "          )\n",
              "          (output): BertOutput(\n",
              "            (dense): Linear(in_features=3072, out_features=768, bias=True)\n",
              "            (LayerNorm): LayerNorm((768,), eps=1e-12, elementwise_affine=True)\n",
              "            (dropout): Dropout(p=0.1, inplace=False)\n",
              "          )\n",
              "        )\n",
              "        (6): BertLayer(\n",
              "          (attention): BertAttention(\n",
              "            (self): BertSelfAttention(\n",
              "              (query): Linear(in_features=768, out_features=768, bias=True)\n",
              "              (key): Linear(in_features=768, out_features=768, bias=True)\n",
              "              (value): Linear(in_features=768, out_features=768, bias=True)\n",
              "              (dropout): Dropout(p=0.1, inplace=False)\n",
              "            )\n",
              "            (output): BertSelfOutput(\n",
              "              (dense): Linear(in_features=768, out_features=768, bias=True)\n",
              "              (LayerNorm): LayerNorm((768,), eps=1e-12, elementwise_affine=True)\n",
              "              (dropout): Dropout(p=0.1, inplace=False)\n",
              "            )\n",
              "          )\n",
              "          (intermediate): BertIntermediate(\n",
              "            (dense): Linear(in_features=768, out_features=3072, bias=True)\n",
              "            (intermediate_act_fn): GELUActivation()\n",
              "          )\n",
              "          (output): BertOutput(\n",
              "            (dense): Linear(in_features=3072, out_features=768, bias=True)\n",
              "            (LayerNorm): LayerNorm((768,), eps=1e-12, elementwise_affine=True)\n",
              "            (dropout): Dropout(p=0.1, inplace=False)\n",
              "          )\n",
              "        )\n",
              "        (7): BertLayer(\n",
              "          (attention): BertAttention(\n",
              "            (self): BertSelfAttention(\n",
              "              (query): Linear(in_features=768, out_features=768, bias=True)\n",
              "              (key): Linear(in_features=768, out_features=768, bias=True)\n",
              "              (value): Linear(in_features=768, out_features=768, bias=True)\n",
              "              (dropout): Dropout(p=0.1, inplace=False)\n",
              "            )\n",
              "            (output): BertSelfOutput(\n",
              "              (dense): Linear(in_features=768, out_features=768, bias=True)\n",
              "              (LayerNorm): LayerNorm((768,), eps=1e-12, elementwise_affine=True)\n",
              "              (dropout): Dropout(p=0.1, inplace=False)\n",
              "            )\n",
              "          )\n",
              "          (intermediate): BertIntermediate(\n",
              "            (dense): Linear(in_features=768, out_features=3072, bias=True)\n",
              "            (intermediate_act_fn): GELUActivation()\n",
              "          )\n",
              "          (output): BertOutput(\n",
              "            (dense): Linear(in_features=3072, out_features=768, bias=True)\n",
              "            (LayerNorm): LayerNorm((768,), eps=1e-12, elementwise_affine=True)\n",
              "            (dropout): Dropout(p=0.1, inplace=False)\n",
              "          )\n",
              "        )\n",
              "        (8): BertLayer(\n",
              "          (attention): BertAttention(\n",
              "            (self): BertSelfAttention(\n",
              "              (query): Linear(in_features=768, out_features=768, bias=True)\n",
              "              (key): Linear(in_features=768, out_features=768, bias=True)\n",
              "              (value): Linear(in_features=768, out_features=768, bias=True)\n",
              "              (dropout): Dropout(p=0.1, inplace=False)\n",
              "            )\n",
              "            (output): BertSelfOutput(\n",
              "              (dense): Linear(in_features=768, out_features=768, bias=True)\n",
              "              (LayerNorm): LayerNorm((768,), eps=1e-12, elementwise_affine=True)\n",
              "              (dropout): Dropout(p=0.1, inplace=False)\n",
              "            )\n",
              "          )\n",
              "          (intermediate): BertIntermediate(\n",
              "            (dense): Linear(in_features=768, out_features=3072, bias=True)\n",
              "            (intermediate_act_fn): GELUActivation()\n",
              "          )\n",
              "          (output): BertOutput(\n",
              "            (dense): Linear(in_features=3072, out_features=768, bias=True)\n",
              "            (LayerNorm): LayerNorm((768,), eps=1e-12, elementwise_affine=True)\n",
              "            (dropout): Dropout(p=0.1, inplace=False)\n",
              "          )\n",
              "        )\n",
              "        (9): BertLayer(\n",
              "          (attention): BertAttention(\n",
              "            (self): BertSelfAttention(\n",
              "              (query): Linear(in_features=768, out_features=768, bias=True)\n",
              "              (key): Linear(in_features=768, out_features=768, bias=True)\n",
              "              (value): Linear(in_features=768, out_features=768, bias=True)\n",
              "              (dropout): Dropout(p=0.1, inplace=False)\n",
              "            )\n",
              "            (output): BertSelfOutput(\n",
              "              (dense): Linear(in_features=768, out_features=768, bias=True)\n",
              "              (LayerNorm): LayerNorm((768,), eps=1e-12, elementwise_affine=True)\n",
              "              (dropout): Dropout(p=0.1, inplace=False)\n",
              "            )\n",
              "          )\n",
              "          (intermediate): BertIntermediate(\n",
              "            (dense): Linear(in_features=768, out_features=3072, bias=True)\n",
              "            (intermediate_act_fn): GELUActivation()\n",
              "          )\n",
              "          (output): BertOutput(\n",
              "            (dense): Linear(in_features=3072, out_features=768, bias=True)\n",
              "            (LayerNorm): LayerNorm((768,), eps=1e-12, elementwise_affine=True)\n",
              "            (dropout): Dropout(p=0.1, inplace=False)\n",
              "          )\n",
              "        )\n",
              "        (10): BertLayer(\n",
              "          (attention): BertAttention(\n",
              "            (self): BertSelfAttention(\n",
              "              (query): Linear(in_features=768, out_features=768, bias=True)\n",
              "              (key): Linear(in_features=768, out_features=768, bias=True)\n",
              "              (value): Linear(in_features=768, out_features=768, bias=True)\n",
              "              (dropout): Dropout(p=0.1, inplace=False)\n",
              "            )\n",
              "            (output): BertSelfOutput(\n",
              "              (dense): Linear(in_features=768, out_features=768, bias=True)\n",
              "              (LayerNorm): LayerNorm((768,), eps=1e-12, elementwise_affine=True)\n",
              "              (dropout): Dropout(p=0.1, inplace=False)\n",
              "            )\n",
              "          )\n",
              "          (intermediate): BertIntermediate(\n",
              "            (dense): Linear(in_features=768, out_features=3072, bias=True)\n",
              "            (intermediate_act_fn): GELUActivation()\n",
              "          )\n",
              "          (output): BertOutput(\n",
              "            (dense): Linear(in_features=3072, out_features=768, bias=True)\n",
              "            (LayerNorm): LayerNorm((768,), eps=1e-12, elementwise_affine=True)\n",
              "            (dropout): Dropout(p=0.1, inplace=False)\n",
              "          )\n",
              "        )\n",
              "        (11): BertLayer(\n",
              "          (attention): BertAttention(\n",
              "            (self): BertSelfAttention(\n",
              "              (query): Linear(in_features=768, out_features=768, bias=True)\n",
              "              (key): Linear(in_features=768, out_features=768, bias=True)\n",
              "              (value): Linear(in_features=768, out_features=768, bias=True)\n",
              "              (dropout): Dropout(p=0.1, inplace=False)\n",
              "            )\n",
              "            (output): BertSelfOutput(\n",
              "              (dense): Linear(in_features=768, out_features=768, bias=True)\n",
              "              (LayerNorm): LayerNorm((768,), eps=1e-12, elementwise_affine=True)\n",
              "              (dropout): Dropout(p=0.1, inplace=False)\n",
              "            )\n",
              "          )\n",
              "          (intermediate): BertIntermediate(\n",
              "            (dense): Linear(in_features=768, out_features=3072, bias=True)\n",
              "            (intermediate_act_fn): GELUActivation()\n",
              "          )\n",
              "          (output): BertOutput(\n",
              "            (dense): Linear(in_features=3072, out_features=768, bias=True)\n",
              "            (LayerNorm): LayerNorm((768,), eps=1e-12, elementwise_affine=True)\n",
              "            (dropout): Dropout(p=0.1, inplace=False)\n",
              "          )\n",
              "        )\n",
              "      )\n",
              "    )\n",
              "    (pooler): BertPooler(\n",
              "      (dense): Linear(in_features=768, out_features=768, bias=True)\n",
              "      (activation): Tanh()\n",
              "    )\n",
              "  )\n",
              "  (classifier): Sequential(\n",
              "    (0): Linear(in_features=768, out_features=32, bias=True)\n",
              "    (1): ReLU()\n",
              "    (2): Dropout(p=0.1, inplace=False)\n",
              "    (3): Linear(in_features=32, out_features=2, bias=True)\n",
              "  )\n",
              ")>"
            ]
          },
          "metadata": {},
          "execution_count": 31
        }
      ],
      "source": [
        "# model_freeze 모델의 모든 파라미터를 출력해보고 아래 질문에 답해 보자\n",
        "\n",
        "\"\"\"\n",
        "변수명은 model_freeze 이지만 \n",
        "model unfreeze 모델이라고 생각하고 푸시면 될 것 같습니다.\n",
        "\"\"\"\n",
        "model_freeze.get_parameter"
      ]
    },
    {
      "cell_type": "code",
      "execution_count": 32,
      "metadata": {
        "colab": {
          "base_uri": "https://localhost:8080/"
        },
        "id": "J4zzwLuuv4TP",
        "outputId": "b977c952-b4de-4850-ccbf-a3cdfc2150ba"
      },
      "outputs": [
        {
          "output_type": "stream",
          "name": "stdout",
          "text": [
            "Param Name: bert.embeddings.word_embeddings.weight, Shape: torch.Size([32000, 768]), Grad: True\n",
            "Param Name: bert.embeddings.position_embeddings.weight, Shape: torch.Size([512, 768]), Grad: True\n",
            "Param Name: bert.embeddings.token_type_embeddings.weight, Shape: torch.Size([2, 768]), Grad: True\n",
            "Param Name: bert.embeddings.LayerNorm.weight, Shape: torch.Size([768]), Grad: True\n",
            "Param Name: bert.embeddings.LayerNorm.bias, Shape: torch.Size([768]), Grad: True\n",
            "Param Name: bert.encoder.layer.0.attention.self.query.weight, Shape: torch.Size([768, 768]), Grad: True\n",
            "Param Name: bert.encoder.layer.0.attention.self.query.bias, Shape: torch.Size([768]), Grad: True\n",
            "Param Name: bert.encoder.layer.0.attention.self.key.weight, Shape: torch.Size([768, 768]), Grad: True\n",
            "Param Name: bert.encoder.layer.0.attention.self.key.bias, Shape: torch.Size([768]), Grad: True\n",
            "Param Name: bert.encoder.layer.0.attention.self.value.weight, Shape: torch.Size([768, 768]), Grad: True\n",
            "Param Name: bert.encoder.layer.0.attention.self.value.bias, Shape: torch.Size([768]), Grad: True\n",
            "Param Name: bert.encoder.layer.0.attention.output.dense.weight, Shape: torch.Size([768, 768]), Grad: True\n",
            "Param Name: bert.encoder.layer.0.attention.output.dense.bias, Shape: torch.Size([768]), Grad: True\n",
            "Param Name: bert.encoder.layer.0.attention.output.LayerNorm.weight, Shape: torch.Size([768]), Grad: True\n",
            "Param Name: bert.encoder.layer.0.attention.output.LayerNorm.bias, Shape: torch.Size([768]), Grad: True\n",
            "Param Name: bert.encoder.layer.0.intermediate.dense.weight, Shape: torch.Size([3072, 768]), Grad: True\n",
            "Param Name: bert.encoder.layer.0.intermediate.dense.bias, Shape: torch.Size([3072]), Grad: True\n",
            "Param Name: bert.encoder.layer.0.output.dense.weight, Shape: torch.Size([768, 3072]), Grad: True\n",
            "Param Name: bert.encoder.layer.0.output.dense.bias, Shape: torch.Size([768]), Grad: True\n",
            "Param Name: bert.encoder.layer.0.output.LayerNorm.weight, Shape: torch.Size([768]), Grad: True\n",
            "Param Name: bert.encoder.layer.0.output.LayerNorm.bias, Shape: torch.Size([768]), Grad: True\n",
            "Param Name: bert.encoder.layer.1.attention.self.query.weight, Shape: torch.Size([768, 768]), Grad: True\n",
            "Param Name: bert.encoder.layer.1.attention.self.query.bias, Shape: torch.Size([768]), Grad: True\n",
            "Param Name: bert.encoder.layer.1.attention.self.key.weight, Shape: torch.Size([768, 768]), Grad: True\n",
            "Param Name: bert.encoder.layer.1.attention.self.key.bias, Shape: torch.Size([768]), Grad: True\n",
            "Param Name: bert.encoder.layer.1.attention.self.value.weight, Shape: torch.Size([768, 768]), Grad: True\n",
            "Param Name: bert.encoder.layer.1.attention.self.value.bias, Shape: torch.Size([768]), Grad: True\n",
            "Param Name: bert.encoder.layer.1.attention.output.dense.weight, Shape: torch.Size([768, 768]), Grad: True\n",
            "Param Name: bert.encoder.layer.1.attention.output.dense.bias, Shape: torch.Size([768]), Grad: True\n",
            "Param Name: bert.encoder.layer.1.attention.output.LayerNorm.weight, Shape: torch.Size([768]), Grad: True\n",
            "Param Name: bert.encoder.layer.1.attention.output.LayerNorm.bias, Shape: torch.Size([768]), Grad: True\n",
            "Param Name: bert.encoder.layer.1.intermediate.dense.weight, Shape: torch.Size([3072, 768]), Grad: True\n",
            "Param Name: bert.encoder.layer.1.intermediate.dense.bias, Shape: torch.Size([3072]), Grad: True\n",
            "Param Name: bert.encoder.layer.1.output.dense.weight, Shape: torch.Size([768, 3072]), Grad: True\n",
            "Param Name: bert.encoder.layer.1.output.dense.bias, Shape: torch.Size([768]), Grad: True\n",
            "Param Name: bert.encoder.layer.1.output.LayerNorm.weight, Shape: torch.Size([768]), Grad: True\n",
            "Param Name: bert.encoder.layer.1.output.LayerNorm.bias, Shape: torch.Size([768]), Grad: True\n",
            "Param Name: bert.encoder.layer.2.attention.self.query.weight, Shape: torch.Size([768, 768]), Grad: True\n",
            "Param Name: bert.encoder.layer.2.attention.self.query.bias, Shape: torch.Size([768]), Grad: True\n",
            "Param Name: bert.encoder.layer.2.attention.self.key.weight, Shape: torch.Size([768, 768]), Grad: True\n",
            "Param Name: bert.encoder.layer.2.attention.self.key.bias, Shape: torch.Size([768]), Grad: True\n",
            "Param Name: bert.encoder.layer.2.attention.self.value.weight, Shape: torch.Size([768, 768]), Grad: True\n",
            "Param Name: bert.encoder.layer.2.attention.self.value.bias, Shape: torch.Size([768]), Grad: True\n",
            "Param Name: bert.encoder.layer.2.attention.output.dense.weight, Shape: torch.Size([768, 768]), Grad: True\n",
            "Param Name: bert.encoder.layer.2.attention.output.dense.bias, Shape: torch.Size([768]), Grad: True\n",
            "Param Name: bert.encoder.layer.2.attention.output.LayerNorm.weight, Shape: torch.Size([768]), Grad: True\n",
            "Param Name: bert.encoder.layer.2.attention.output.LayerNorm.bias, Shape: torch.Size([768]), Grad: True\n",
            "Param Name: bert.encoder.layer.2.intermediate.dense.weight, Shape: torch.Size([3072, 768]), Grad: True\n",
            "Param Name: bert.encoder.layer.2.intermediate.dense.bias, Shape: torch.Size([3072]), Grad: True\n",
            "Param Name: bert.encoder.layer.2.output.dense.weight, Shape: torch.Size([768, 3072]), Grad: True\n",
            "Param Name: bert.encoder.layer.2.output.dense.bias, Shape: torch.Size([768]), Grad: True\n",
            "Param Name: bert.encoder.layer.2.output.LayerNorm.weight, Shape: torch.Size([768]), Grad: True\n",
            "Param Name: bert.encoder.layer.2.output.LayerNorm.bias, Shape: torch.Size([768]), Grad: True\n",
            "Param Name: bert.encoder.layer.3.attention.self.query.weight, Shape: torch.Size([768, 768]), Grad: True\n",
            "Param Name: bert.encoder.layer.3.attention.self.query.bias, Shape: torch.Size([768]), Grad: True\n",
            "Param Name: bert.encoder.layer.3.attention.self.key.weight, Shape: torch.Size([768, 768]), Grad: True\n",
            "Param Name: bert.encoder.layer.3.attention.self.key.bias, Shape: torch.Size([768]), Grad: True\n",
            "Param Name: bert.encoder.layer.3.attention.self.value.weight, Shape: torch.Size([768, 768]), Grad: True\n",
            "Param Name: bert.encoder.layer.3.attention.self.value.bias, Shape: torch.Size([768]), Grad: True\n",
            "Param Name: bert.encoder.layer.3.attention.output.dense.weight, Shape: torch.Size([768, 768]), Grad: True\n",
            "Param Name: bert.encoder.layer.3.attention.output.dense.bias, Shape: torch.Size([768]), Grad: True\n",
            "Param Name: bert.encoder.layer.3.attention.output.LayerNorm.weight, Shape: torch.Size([768]), Grad: True\n",
            "Param Name: bert.encoder.layer.3.attention.output.LayerNorm.bias, Shape: torch.Size([768]), Grad: True\n",
            "Param Name: bert.encoder.layer.3.intermediate.dense.weight, Shape: torch.Size([3072, 768]), Grad: True\n",
            "Param Name: bert.encoder.layer.3.intermediate.dense.bias, Shape: torch.Size([3072]), Grad: True\n",
            "Param Name: bert.encoder.layer.3.output.dense.weight, Shape: torch.Size([768, 3072]), Grad: True\n",
            "Param Name: bert.encoder.layer.3.output.dense.bias, Shape: torch.Size([768]), Grad: True\n",
            "Param Name: bert.encoder.layer.3.output.LayerNorm.weight, Shape: torch.Size([768]), Grad: True\n",
            "Param Name: bert.encoder.layer.3.output.LayerNorm.bias, Shape: torch.Size([768]), Grad: True\n",
            "Param Name: bert.encoder.layer.4.attention.self.query.weight, Shape: torch.Size([768, 768]), Grad: True\n",
            "Param Name: bert.encoder.layer.4.attention.self.query.bias, Shape: torch.Size([768]), Grad: True\n",
            "Param Name: bert.encoder.layer.4.attention.self.key.weight, Shape: torch.Size([768, 768]), Grad: True\n",
            "Param Name: bert.encoder.layer.4.attention.self.key.bias, Shape: torch.Size([768]), Grad: True\n",
            "Param Name: bert.encoder.layer.4.attention.self.value.weight, Shape: torch.Size([768, 768]), Grad: True\n",
            "Param Name: bert.encoder.layer.4.attention.self.value.bias, Shape: torch.Size([768]), Grad: True\n",
            "Param Name: bert.encoder.layer.4.attention.output.dense.weight, Shape: torch.Size([768, 768]), Grad: True\n",
            "Param Name: bert.encoder.layer.4.attention.output.dense.bias, Shape: torch.Size([768]), Grad: True\n",
            "Param Name: bert.encoder.layer.4.attention.output.LayerNorm.weight, Shape: torch.Size([768]), Grad: True\n",
            "Param Name: bert.encoder.layer.4.attention.output.LayerNorm.bias, Shape: torch.Size([768]), Grad: True\n",
            "Param Name: bert.encoder.layer.4.intermediate.dense.weight, Shape: torch.Size([3072, 768]), Grad: True\n",
            "Param Name: bert.encoder.layer.4.intermediate.dense.bias, Shape: torch.Size([3072]), Grad: True\n",
            "Param Name: bert.encoder.layer.4.output.dense.weight, Shape: torch.Size([768, 3072]), Grad: True\n",
            "Param Name: bert.encoder.layer.4.output.dense.bias, Shape: torch.Size([768]), Grad: True\n",
            "Param Name: bert.encoder.layer.4.output.LayerNorm.weight, Shape: torch.Size([768]), Grad: True\n",
            "Param Name: bert.encoder.layer.4.output.LayerNorm.bias, Shape: torch.Size([768]), Grad: True\n",
            "Param Name: bert.encoder.layer.5.attention.self.query.weight, Shape: torch.Size([768, 768]), Grad: True\n",
            "Param Name: bert.encoder.layer.5.attention.self.query.bias, Shape: torch.Size([768]), Grad: True\n",
            "Param Name: bert.encoder.layer.5.attention.self.key.weight, Shape: torch.Size([768, 768]), Grad: True\n",
            "Param Name: bert.encoder.layer.5.attention.self.key.bias, Shape: torch.Size([768]), Grad: True\n",
            "Param Name: bert.encoder.layer.5.attention.self.value.weight, Shape: torch.Size([768, 768]), Grad: True\n",
            "Param Name: bert.encoder.layer.5.attention.self.value.bias, Shape: torch.Size([768]), Grad: True\n",
            "Param Name: bert.encoder.layer.5.attention.output.dense.weight, Shape: torch.Size([768, 768]), Grad: True\n",
            "Param Name: bert.encoder.layer.5.attention.output.dense.bias, Shape: torch.Size([768]), Grad: True\n",
            "Param Name: bert.encoder.layer.5.attention.output.LayerNorm.weight, Shape: torch.Size([768]), Grad: True\n",
            "Param Name: bert.encoder.layer.5.attention.output.LayerNorm.bias, Shape: torch.Size([768]), Grad: True\n",
            "Param Name: bert.encoder.layer.5.intermediate.dense.weight, Shape: torch.Size([3072, 768]), Grad: True\n",
            "Param Name: bert.encoder.layer.5.intermediate.dense.bias, Shape: torch.Size([3072]), Grad: True\n",
            "Param Name: bert.encoder.layer.5.output.dense.weight, Shape: torch.Size([768, 3072]), Grad: True\n",
            "Param Name: bert.encoder.layer.5.output.dense.bias, Shape: torch.Size([768]), Grad: True\n",
            "Param Name: bert.encoder.layer.5.output.LayerNorm.weight, Shape: torch.Size([768]), Grad: True\n",
            "Param Name: bert.encoder.layer.5.output.LayerNorm.bias, Shape: torch.Size([768]), Grad: True\n",
            "Param Name: bert.encoder.layer.6.attention.self.query.weight, Shape: torch.Size([768, 768]), Grad: True\n",
            "Param Name: bert.encoder.layer.6.attention.self.query.bias, Shape: torch.Size([768]), Grad: True\n",
            "Param Name: bert.encoder.layer.6.attention.self.key.weight, Shape: torch.Size([768, 768]), Grad: True\n",
            "Param Name: bert.encoder.layer.6.attention.self.key.bias, Shape: torch.Size([768]), Grad: True\n",
            "Param Name: bert.encoder.layer.6.attention.self.value.weight, Shape: torch.Size([768, 768]), Grad: True\n",
            "Param Name: bert.encoder.layer.6.attention.self.value.bias, Shape: torch.Size([768]), Grad: True\n",
            "Param Name: bert.encoder.layer.6.attention.output.dense.weight, Shape: torch.Size([768, 768]), Grad: True\n",
            "Param Name: bert.encoder.layer.6.attention.output.dense.bias, Shape: torch.Size([768]), Grad: True\n",
            "Param Name: bert.encoder.layer.6.attention.output.LayerNorm.weight, Shape: torch.Size([768]), Grad: True\n",
            "Param Name: bert.encoder.layer.6.attention.output.LayerNorm.bias, Shape: torch.Size([768]), Grad: True\n",
            "Param Name: bert.encoder.layer.6.intermediate.dense.weight, Shape: torch.Size([3072, 768]), Grad: True\n",
            "Param Name: bert.encoder.layer.6.intermediate.dense.bias, Shape: torch.Size([3072]), Grad: True\n",
            "Param Name: bert.encoder.layer.6.output.dense.weight, Shape: torch.Size([768, 3072]), Grad: True\n",
            "Param Name: bert.encoder.layer.6.output.dense.bias, Shape: torch.Size([768]), Grad: True\n",
            "Param Name: bert.encoder.layer.6.output.LayerNorm.weight, Shape: torch.Size([768]), Grad: True\n",
            "Param Name: bert.encoder.layer.6.output.LayerNorm.bias, Shape: torch.Size([768]), Grad: True\n",
            "Param Name: bert.encoder.layer.7.attention.self.query.weight, Shape: torch.Size([768, 768]), Grad: True\n",
            "Param Name: bert.encoder.layer.7.attention.self.query.bias, Shape: torch.Size([768]), Grad: True\n",
            "Param Name: bert.encoder.layer.7.attention.self.key.weight, Shape: torch.Size([768, 768]), Grad: True\n",
            "Param Name: bert.encoder.layer.7.attention.self.key.bias, Shape: torch.Size([768]), Grad: True\n",
            "Param Name: bert.encoder.layer.7.attention.self.value.weight, Shape: torch.Size([768, 768]), Grad: True\n",
            "Param Name: bert.encoder.layer.7.attention.self.value.bias, Shape: torch.Size([768]), Grad: True\n",
            "Param Name: bert.encoder.layer.7.attention.output.dense.weight, Shape: torch.Size([768, 768]), Grad: True\n",
            "Param Name: bert.encoder.layer.7.attention.output.dense.bias, Shape: torch.Size([768]), Grad: True\n",
            "Param Name: bert.encoder.layer.7.attention.output.LayerNorm.weight, Shape: torch.Size([768]), Grad: True\n",
            "Param Name: bert.encoder.layer.7.attention.output.LayerNorm.bias, Shape: torch.Size([768]), Grad: True\n",
            "Param Name: bert.encoder.layer.7.intermediate.dense.weight, Shape: torch.Size([3072, 768]), Grad: True\n",
            "Param Name: bert.encoder.layer.7.intermediate.dense.bias, Shape: torch.Size([3072]), Grad: True\n",
            "Param Name: bert.encoder.layer.7.output.dense.weight, Shape: torch.Size([768, 3072]), Grad: True\n",
            "Param Name: bert.encoder.layer.7.output.dense.bias, Shape: torch.Size([768]), Grad: True\n",
            "Param Name: bert.encoder.layer.7.output.LayerNorm.weight, Shape: torch.Size([768]), Grad: True\n",
            "Param Name: bert.encoder.layer.7.output.LayerNorm.bias, Shape: torch.Size([768]), Grad: True\n",
            "Param Name: bert.encoder.layer.8.attention.self.query.weight, Shape: torch.Size([768, 768]), Grad: True\n",
            "Param Name: bert.encoder.layer.8.attention.self.query.bias, Shape: torch.Size([768]), Grad: True\n",
            "Param Name: bert.encoder.layer.8.attention.self.key.weight, Shape: torch.Size([768, 768]), Grad: True\n",
            "Param Name: bert.encoder.layer.8.attention.self.key.bias, Shape: torch.Size([768]), Grad: True\n",
            "Param Name: bert.encoder.layer.8.attention.self.value.weight, Shape: torch.Size([768, 768]), Grad: True\n",
            "Param Name: bert.encoder.layer.8.attention.self.value.bias, Shape: torch.Size([768]), Grad: True\n",
            "Param Name: bert.encoder.layer.8.attention.output.dense.weight, Shape: torch.Size([768, 768]), Grad: True\n",
            "Param Name: bert.encoder.layer.8.attention.output.dense.bias, Shape: torch.Size([768]), Grad: True\n",
            "Param Name: bert.encoder.layer.8.attention.output.LayerNorm.weight, Shape: torch.Size([768]), Grad: True\n",
            "Param Name: bert.encoder.layer.8.attention.output.LayerNorm.bias, Shape: torch.Size([768]), Grad: True\n",
            "Param Name: bert.encoder.layer.8.intermediate.dense.weight, Shape: torch.Size([3072, 768]), Grad: True\n",
            "Param Name: bert.encoder.layer.8.intermediate.dense.bias, Shape: torch.Size([3072]), Grad: True\n",
            "Param Name: bert.encoder.layer.8.output.dense.weight, Shape: torch.Size([768, 3072]), Grad: True\n",
            "Param Name: bert.encoder.layer.8.output.dense.bias, Shape: torch.Size([768]), Grad: True\n",
            "Param Name: bert.encoder.layer.8.output.LayerNorm.weight, Shape: torch.Size([768]), Grad: True\n",
            "Param Name: bert.encoder.layer.8.output.LayerNorm.bias, Shape: torch.Size([768]), Grad: True\n",
            "Param Name: bert.encoder.layer.9.attention.self.query.weight, Shape: torch.Size([768, 768]), Grad: True\n",
            "Param Name: bert.encoder.layer.9.attention.self.query.bias, Shape: torch.Size([768]), Grad: True\n",
            "Param Name: bert.encoder.layer.9.attention.self.key.weight, Shape: torch.Size([768, 768]), Grad: True\n",
            "Param Name: bert.encoder.layer.9.attention.self.key.bias, Shape: torch.Size([768]), Grad: True\n",
            "Param Name: bert.encoder.layer.9.attention.self.value.weight, Shape: torch.Size([768, 768]), Grad: True\n",
            "Param Name: bert.encoder.layer.9.attention.self.value.bias, Shape: torch.Size([768]), Grad: True\n",
            "Param Name: bert.encoder.layer.9.attention.output.dense.weight, Shape: torch.Size([768, 768]), Grad: True\n",
            "Param Name: bert.encoder.layer.9.attention.output.dense.bias, Shape: torch.Size([768]), Grad: True\n",
            "Param Name: bert.encoder.layer.9.attention.output.LayerNorm.weight, Shape: torch.Size([768]), Grad: True\n",
            "Param Name: bert.encoder.layer.9.attention.output.LayerNorm.bias, Shape: torch.Size([768]), Grad: True\n",
            "Param Name: bert.encoder.layer.9.intermediate.dense.weight, Shape: torch.Size([3072, 768]), Grad: True\n",
            "Param Name: bert.encoder.layer.9.intermediate.dense.bias, Shape: torch.Size([3072]), Grad: True\n",
            "Param Name: bert.encoder.layer.9.output.dense.weight, Shape: torch.Size([768, 3072]), Grad: True\n",
            "Param Name: bert.encoder.layer.9.output.dense.bias, Shape: torch.Size([768]), Grad: True\n",
            "Param Name: bert.encoder.layer.9.output.LayerNorm.weight, Shape: torch.Size([768]), Grad: True\n",
            "Param Name: bert.encoder.layer.9.output.LayerNorm.bias, Shape: torch.Size([768]), Grad: True\n",
            "Param Name: bert.encoder.layer.10.attention.self.query.weight, Shape: torch.Size([768, 768]), Grad: True\n",
            "Param Name: bert.encoder.layer.10.attention.self.query.bias, Shape: torch.Size([768]), Grad: True\n",
            "Param Name: bert.encoder.layer.10.attention.self.key.weight, Shape: torch.Size([768, 768]), Grad: True\n",
            "Param Name: bert.encoder.layer.10.attention.self.key.bias, Shape: torch.Size([768]), Grad: True\n",
            "Param Name: bert.encoder.layer.10.attention.self.value.weight, Shape: torch.Size([768, 768]), Grad: True\n",
            "Param Name: bert.encoder.layer.10.attention.self.value.bias, Shape: torch.Size([768]), Grad: True\n",
            "Param Name: bert.encoder.layer.10.attention.output.dense.weight, Shape: torch.Size([768, 768]), Grad: True\n",
            "Param Name: bert.encoder.layer.10.attention.output.dense.bias, Shape: torch.Size([768]), Grad: True\n",
            "Param Name: bert.encoder.layer.10.attention.output.LayerNorm.weight, Shape: torch.Size([768]), Grad: True\n",
            "Param Name: bert.encoder.layer.10.attention.output.LayerNorm.bias, Shape: torch.Size([768]), Grad: True\n",
            "Param Name: bert.encoder.layer.10.intermediate.dense.weight, Shape: torch.Size([3072, 768]), Grad: True\n",
            "Param Name: bert.encoder.layer.10.intermediate.dense.bias, Shape: torch.Size([3072]), Grad: True\n",
            "Param Name: bert.encoder.layer.10.output.dense.weight, Shape: torch.Size([768, 3072]), Grad: True\n",
            "Param Name: bert.encoder.layer.10.output.dense.bias, Shape: torch.Size([768]), Grad: True\n",
            "Param Name: bert.encoder.layer.10.output.LayerNorm.weight, Shape: torch.Size([768]), Grad: True\n",
            "Param Name: bert.encoder.layer.10.output.LayerNorm.bias, Shape: torch.Size([768]), Grad: True\n",
            "Param Name: bert.encoder.layer.11.attention.self.query.weight, Shape: torch.Size([768, 768]), Grad: True\n",
            "Param Name: bert.encoder.layer.11.attention.self.query.bias, Shape: torch.Size([768]), Grad: True\n",
            "Param Name: bert.encoder.layer.11.attention.self.key.weight, Shape: torch.Size([768, 768]), Grad: True\n",
            "Param Name: bert.encoder.layer.11.attention.self.key.bias, Shape: torch.Size([768]), Grad: True\n",
            "Param Name: bert.encoder.layer.11.attention.self.value.weight, Shape: torch.Size([768, 768]), Grad: True\n",
            "Param Name: bert.encoder.layer.11.attention.self.value.bias, Shape: torch.Size([768]), Grad: True\n",
            "Param Name: bert.encoder.layer.11.attention.output.dense.weight, Shape: torch.Size([768, 768]), Grad: True\n",
            "Param Name: bert.encoder.layer.11.attention.output.dense.bias, Shape: torch.Size([768]), Grad: True\n",
            "Param Name: bert.encoder.layer.11.attention.output.LayerNorm.weight, Shape: torch.Size([768]), Grad: True\n",
            "Param Name: bert.encoder.layer.11.attention.output.LayerNorm.bias, Shape: torch.Size([768]), Grad: True\n",
            "Param Name: bert.encoder.layer.11.intermediate.dense.weight, Shape: torch.Size([3072, 768]), Grad: True\n",
            "Param Name: bert.encoder.layer.11.intermediate.dense.bias, Shape: torch.Size([3072]), Grad: True\n",
            "Param Name: bert.encoder.layer.11.output.dense.weight, Shape: torch.Size([768, 3072]), Grad: True\n",
            "Param Name: bert.encoder.layer.11.output.dense.bias, Shape: torch.Size([768]), Grad: True\n",
            "Param Name: bert.encoder.layer.11.output.LayerNorm.weight, Shape: torch.Size([768]), Grad: True\n",
            "Param Name: bert.encoder.layer.11.output.LayerNorm.bias, Shape: torch.Size([768]), Grad: True\n",
            "Param Name: bert.pooler.dense.weight, Shape: torch.Size([768, 768]), Grad: True\n",
            "Param Name: bert.pooler.dense.bias, Shape: torch.Size([768]), Grad: True\n",
            "Param Name: classifier.0.weight, Shape: torch.Size([32, 768]), Grad: True\n",
            "Param Name: classifier.0.bias, Shape: torch.Size([32]), Grad: True\n",
            "Param Name: classifier.3.weight, Shape: torch.Size([2, 32]), Grad: True\n",
            "Param Name: classifier.3.bias, Shape: torch.Size([2]), Grad: True\n"
          ]
        }
      ],
      "source": [
        "for name, param in model_freeze.named_parameters():\n",
        "    print(f\"Param Name: {name}, Shape: {param.shape}, Grad: {param.requires_grad}\")"
      ]
    },
    {
      "cell_type": "code",
      "execution_count": null,
      "metadata": {
        "colab": {
          "base_uri": "https://localhost:8080/"
        },
        "id": "y-uxcKwexHfh",
        "outputId": "686e3775-3360-4ca5-9006-0a15e4c1f469"
      },
      "outputs": [
        {
          "data": {
            "text/plain": [
              "<bound method Tensor.backward of Parameter containing:\n",
              "tensor([[-0.0175, -0.0060, -0.0251,  ...,  0.0293, -0.0258, -0.0341],\n",
              "        [ 0.0007, -0.0295, -0.0096,  ..., -0.0269,  0.0298,  0.0083],\n",
              "        [ 0.0201,  0.0189, -0.0330,  ..., -0.0082,  0.0135,  0.0053],\n",
              "        ...,\n",
              "        [ 0.0178,  0.0220,  0.0258,  ...,  0.0003,  0.0011,  0.0074],\n",
              "        [ 0.0020, -0.0170, -0.0345,  ..., -0.0314, -0.0292, -0.0003],\n",
              "        [-0.0113, -0.0169, -0.0195,  ..., -0.0068,  0.0018,  0.0051]],\n",
              "       requires_grad=True)>"
            ]
          },
          "execution_count": 42,
          "metadata": {},
          "output_type": "execute_result"
        }
      ],
      "source": [
        "model_freeze.classifier[0].weight.backward"
      ]
    },
    {
      "cell_type": "code",
      "execution_count": null,
      "metadata": {
        "colab": {
          "base_uri": "https://localhost:8080/"
        },
        "id": "VijcHOVByOlc",
        "outputId": "4425f366-8bde-4a9b-90dd-a0b17b489bae"
      },
      "outputs": [
        {
          "data": {
            "text/plain": [
              "Parameter containing:\n",
              "tensor([[ 0.0136,  0.0162, -0.0616,  ..., -0.0227, -0.0551, -0.0385],\n",
              "        [ 0.0549, -0.0462, -0.0229,  ...,  0.0028, -0.0088,  0.0135],\n",
              "        [ 0.0275,  0.0846,  0.0093,  ..., -0.0018,  0.0184, -0.0297],\n",
              "        ...,\n",
              "        [ 0.0105, -0.0079, -0.0426,  ...,  0.0378, -0.0219,  0.0065],\n",
              "        [-0.0283,  0.0635,  0.0240,  ...,  0.0183,  0.0244, -0.0108],\n",
              "        [ 0.0601, -0.0081,  0.0419,  ...,  0.0085,  0.0259,  0.0199]],\n",
              "       requires_grad=True)"
            ]
          },
          "execution_count": 52,
          "metadata": {},
          "output_type": "execute_result"
        }
      ],
      "source": [
        "model_freeze.bert.encoder.layer[0].attention.self.query.weight"
      ]
    },
    {
      "cell_type": "markdown",
      "metadata": {
        "id": "KloNNAKI5Q3r"
      },
      "source": [
        "### `auto_grad` 개념 및 모델 구조 복습을 위해 다음 항목에 답해 보자\n",
        "- `bert.encoder.layer.0.attention.self.query.weight` 텐서의 gradient는 True인 상태인가?\n",
        "> True\n",
        "- `classifier.0.weight` 텐서의 shape은? \n",
        "> torch.Size([32, 768])\n",
        "- `classifier.0.weight` 텐서는 freeze 상태인가 ? \n",
        "> False\n",
        "- `classifier.0.weight` 텐서의 gradient 값은 무엇인가? \n",
        "> None"
      ]
    },
    {
      "cell_type": "markdown",
      "metadata": {
        "id": "4iIrHg1xUFxP"
      },
      "source": [
        "### 위 모델 (`model_freeze`)의 모든 파라미터의 gradient를 freeze 해보자"
      ]
    },
    {
      "cell_type": "code",
      "execution_count": 33,
      "metadata": {
        "ExecuteTime": {
          "end_time": "2022-01-31T13:49:26.820569Z",
          "start_time": "2022-01-31T13:49:26.816511Z"
        },
        "id": "sHkaFgC8UFxP",
        "colab": {
          "base_uri": "https://localhost:8080/"
        },
        "outputId": "bbbf3602-759b-4da3-9e18-821db6157ed3"
      },
      "outputs": [
        {
          "output_type": "stream",
          "name": "stdout",
          "text": [
            "Param Name: bert.embeddings.word_embeddings.weight, Shape: torch.Size([32000, 768]), Grad: True\n",
            "Param Name: bert.embeddings.position_embeddings.weight, Shape: torch.Size([512, 768]), Grad: True\n",
            "Param Name: bert.embeddings.token_type_embeddings.weight, Shape: torch.Size([2, 768]), Grad: True\n",
            "Param Name: bert.embeddings.LayerNorm.weight, Shape: torch.Size([768]), Grad: True\n",
            "Param Name: bert.embeddings.LayerNorm.bias, Shape: torch.Size([768]), Grad: True\n",
            "Param Name: bert.encoder.layer.0.attention.self.query.weight, Shape: torch.Size([768, 768]), Grad: True\n",
            "Param Name: bert.encoder.layer.0.attention.self.query.bias, Shape: torch.Size([768]), Grad: True\n",
            "Param Name: bert.encoder.layer.0.attention.self.key.weight, Shape: torch.Size([768, 768]), Grad: True\n",
            "Param Name: bert.encoder.layer.0.attention.self.key.bias, Shape: torch.Size([768]), Grad: True\n",
            "Param Name: bert.encoder.layer.0.attention.self.value.weight, Shape: torch.Size([768, 768]), Grad: True\n",
            "Param Name: bert.encoder.layer.0.attention.self.value.bias, Shape: torch.Size([768]), Grad: True\n",
            "Param Name: bert.encoder.layer.0.attention.output.dense.weight, Shape: torch.Size([768, 768]), Grad: True\n",
            "Param Name: bert.encoder.layer.0.attention.output.dense.bias, Shape: torch.Size([768]), Grad: True\n",
            "Param Name: bert.encoder.layer.0.attention.output.LayerNorm.weight, Shape: torch.Size([768]), Grad: True\n",
            "Param Name: bert.encoder.layer.0.attention.output.LayerNorm.bias, Shape: torch.Size([768]), Grad: True\n",
            "Param Name: bert.encoder.layer.0.intermediate.dense.weight, Shape: torch.Size([3072, 768]), Grad: True\n",
            "Param Name: bert.encoder.layer.0.intermediate.dense.bias, Shape: torch.Size([3072]), Grad: True\n",
            "Param Name: bert.encoder.layer.0.output.dense.weight, Shape: torch.Size([768, 3072]), Grad: True\n",
            "Param Name: bert.encoder.layer.0.output.dense.bias, Shape: torch.Size([768]), Grad: True\n",
            "Param Name: bert.encoder.layer.0.output.LayerNorm.weight, Shape: torch.Size([768]), Grad: True\n",
            "Param Name: bert.encoder.layer.0.output.LayerNorm.bias, Shape: torch.Size([768]), Grad: True\n",
            "Param Name: bert.encoder.layer.1.attention.self.query.weight, Shape: torch.Size([768, 768]), Grad: True\n",
            "Param Name: bert.encoder.layer.1.attention.self.query.bias, Shape: torch.Size([768]), Grad: True\n",
            "Param Name: bert.encoder.layer.1.attention.self.key.weight, Shape: torch.Size([768, 768]), Grad: True\n",
            "Param Name: bert.encoder.layer.1.attention.self.key.bias, Shape: torch.Size([768]), Grad: True\n",
            "Param Name: bert.encoder.layer.1.attention.self.value.weight, Shape: torch.Size([768, 768]), Grad: True\n",
            "Param Name: bert.encoder.layer.1.attention.self.value.bias, Shape: torch.Size([768]), Grad: True\n",
            "Param Name: bert.encoder.layer.1.attention.output.dense.weight, Shape: torch.Size([768, 768]), Grad: True\n",
            "Param Name: bert.encoder.layer.1.attention.output.dense.bias, Shape: torch.Size([768]), Grad: True\n",
            "Param Name: bert.encoder.layer.1.attention.output.LayerNorm.weight, Shape: torch.Size([768]), Grad: True\n",
            "Param Name: bert.encoder.layer.1.attention.output.LayerNorm.bias, Shape: torch.Size([768]), Grad: True\n",
            "Param Name: bert.encoder.layer.1.intermediate.dense.weight, Shape: torch.Size([3072, 768]), Grad: True\n",
            "Param Name: bert.encoder.layer.1.intermediate.dense.bias, Shape: torch.Size([3072]), Grad: True\n",
            "Param Name: bert.encoder.layer.1.output.dense.weight, Shape: torch.Size([768, 3072]), Grad: True\n",
            "Param Name: bert.encoder.layer.1.output.dense.bias, Shape: torch.Size([768]), Grad: True\n",
            "Param Name: bert.encoder.layer.1.output.LayerNorm.weight, Shape: torch.Size([768]), Grad: True\n",
            "Param Name: bert.encoder.layer.1.output.LayerNorm.bias, Shape: torch.Size([768]), Grad: True\n",
            "Param Name: bert.encoder.layer.2.attention.self.query.weight, Shape: torch.Size([768, 768]), Grad: True\n",
            "Param Name: bert.encoder.layer.2.attention.self.query.bias, Shape: torch.Size([768]), Grad: True\n",
            "Param Name: bert.encoder.layer.2.attention.self.key.weight, Shape: torch.Size([768, 768]), Grad: True\n",
            "Param Name: bert.encoder.layer.2.attention.self.key.bias, Shape: torch.Size([768]), Grad: True\n",
            "Param Name: bert.encoder.layer.2.attention.self.value.weight, Shape: torch.Size([768, 768]), Grad: True\n",
            "Param Name: bert.encoder.layer.2.attention.self.value.bias, Shape: torch.Size([768]), Grad: True\n",
            "Param Name: bert.encoder.layer.2.attention.output.dense.weight, Shape: torch.Size([768, 768]), Grad: True\n",
            "Param Name: bert.encoder.layer.2.attention.output.dense.bias, Shape: torch.Size([768]), Grad: True\n",
            "Param Name: bert.encoder.layer.2.attention.output.LayerNorm.weight, Shape: torch.Size([768]), Grad: True\n",
            "Param Name: bert.encoder.layer.2.attention.output.LayerNorm.bias, Shape: torch.Size([768]), Grad: True\n",
            "Param Name: bert.encoder.layer.2.intermediate.dense.weight, Shape: torch.Size([3072, 768]), Grad: True\n",
            "Param Name: bert.encoder.layer.2.intermediate.dense.bias, Shape: torch.Size([3072]), Grad: True\n",
            "Param Name: bert.encoder.layer.2.output.dense.weight, Shape: torch.Size([768, 3072]), Grad: True\n",
            "Param Name: bert.encoder.layer.2.output.dense.bias, Shape: torch.Size([768]), Grad: True\n",
            "Param Name: bert.encoder.layer.2.output.LayerNorm.weight, Shape: torch.Size([768]), Grad: True\n",
            "Param Name: bert.encoder.layer.2.output.LayerNorm.bias, Shape: torch.Size([768]), Grad: True\n",
            "Param Name: bert.encoder.layer.3.attention.self.query.weight, Shape: torch.Size([768, 768]), Grad: True\n",
            "Param Name: bert.encoder.layer.3.attention.self.query.bias, Shape: torch.Size([768]), Grad: True\n",
            "Param Name: bert.encoder.layer.3.attention.self.key.weight, Shape: torch.Size([768, 768]), Grad: True\n",
            "Param Name: bert.encoder.layer.3.attention.self.key.bias, Shape: torch.Size([768]), Grad: True\n",
            "Param Name: bert.encoder.layer.3.attention.self.value.weight, Shape: torch.Size([768, 768]), Grad: True\n",
            "Param Name: bert.encoder.layer.3.attention.self.value.bias, Shape: torch.Size([768]), Grad: True\n",
            "Param Name: bert.encoder.layer.3.attention.output.dense.weight, Shape: torch.Size([768, 768]), Grad: True\n",
            "Param Name: bert.encoder.layer.3.attention.output.dense.bias, Shape: torch.Size([768]), Grad: True\n",
            "Param Name: bert.encoder.layer.3.attention.output.LayerNorm.weight, Shape: torch.Size([768]), Grad: True\n",
            "Param Name: bert.encoder.layer.3.attention.output.LayerNorm.bias, Shape: torch.Size([768]), Grad: True\n",
            "Param Name: bert.encoder.layer.3.intermediate.dense.weight, Shape: torch.Size([3072, 768]), Grad: True\n",
            "Param Name: bert.encoder.layer.3.intermediate.dense.bias, Shape: torch.Size([3072]), Grad: True\n",
            "Param Name: bert.encoder.layer.3.output.dense.weight, Shape: torch.Size([768, 3072]), Grad: True\n",
            "Param Name: bert.encoder.layer.3.output.dense.bias, Shape: torch.Size([768]), Grad: True\n",
            "Param Name: bert.encoder.layer.3.output.LayerNorm.weight, Shape: torch.Size([768]), Grad: True\n",
            "Param Name: bert.encoder.layer.3.output.LayerNorm.bias, Shape: torch.Size([768]), Grad: True\n",
            "Param Name: bert.encoder.layer.4.attention.self.query.weight, Shape: torch.Size([768, 768]), Grad: True\n",
            "Param Name: bert.encoder.layer.4.attention.self.query.bias, Shape: torch.Size([768]), Grad: True\n",
            "Param Name: bert.encoder.layer.4.attention.self.key.weight, Shape: torch.Size([768, 768]), Grad: True\n",
            "Param Name: bert.encoder.layer.4.attention.self.key.bias, Shape: torch.Size([768]), Grad: True\n",
            "Param Name: bert.encoder.layer.4.attention.self.value.weight, Shape: torch.Size([768, 768]), Grad: True\n",
            "Param Name: bert.encoder.layer.4.attention.self.value.bias, Shape: torch.Size([768]), Grad: True\n",
            "Param Name: bert.encoder.layer.4.attention.output.dense.weight, Shape: torch.Size([768, 768]), Grad: True\n",
            "Param Name: bert.encoder.layer.4.attention.output.dense.bias, Shape: torch.Size([768]), Grad: True\n",
            "Param Name: bert.encoder.layer.4.attention.output.LayerNorm.weight, Shape: torch.Size([768]), Grad: True\n",
            "Param Name: bert.encoder.layer.4.attention.output.LayerNorm.bias, Shape: torch.Size([768]), Grad: True\n",
            "Param Name: bert.encoder.layer.4.intermediate.dense.weight, Shape: torch.Size([3072, 768]), Grad: True\n",
            "Param Name: bert.encoder.layer.4.intermediate.dense.bias, Shape: torch.Size([3072]), Grad: True\n",
            "Param Name: bert.encoder.layer.4.output.dense.weight, Shape: torch.Size([768, 3072]), Grad: True\n",
            "Param Name: bert.encoder.layer.4.output.dense.bias, Shape: torch.Size([768]), Grad: True\n",
            "Param Name: bert.encoder.layer.4.output.LayerNorm.weight, Shape: torch.Size([768]), Grad: True\n",
            "Param Name: bert.encoder.layer.4.output.LayerNorm.bias, Shape: torch.Size([768]), Grad: True\n",
            "Param Name: bert.encoder.layer.5.attention.self.query.weight, Shape: torch.Size([768, 768]), Grad: True\n",
            "Param Name: bert.encoder.layer.5.attention.self.query.bias, Shape: torch.Size([768]), Grad: True\n",
            "Param Name: bert.encoder.layer.5.attention.self.key.weight, Shape: torch.Size([768, 768]), Grad: True\n",
            "Param Name: bert.encoder.layer.5.attention.self.key.bias, Shape: torch.Size([768]), Grad: True\n",
            "Param Name: bert.encoder.layer.5.attention.self.value.weight, Shape: torch.Size([768, 768]), Grad: True\n",
            "Param Name: bert.encoder.layer.5.attention.self.value.bias, Shape: torch.Size([768]), Grad: True\n",
            "Param Name: bert.encoder.layer.5.attention.output.dense.weight, Shape: torch.Size([768, 768]), Grad: True\n",
            "Param Name: bert.encoder.layer.5.attention.output.dense.bias, Shape: torch.Size([768]), Grad: True\n",
            "Param Name: bert.encoder.layer.5.attention.output.LayerNorm.weight, Shape: torch.Size([768]), Grad: True\n",
            "Param Name: bert.encoder.layer.5.attention.output.LayerNorm.bias, Shape: torch.Size([768]), Grad: True\n",
            "Param Name: bert.encoder.layer.5.intermediate.dense.weight, Shape: torch.Size([3072, 768]), Grad: True\n",
            "Param Name: bert.encoder.layer.5.intermediate.dense.bias, Shape: torch.Size([3072]), Grad: True\n",
            "Param Name: bert.encoder.layer.5.output.dense.weight, Shape: torch.Size([768, 3072]), Grad: True\n",
            "Param Name: bert.encoder.layer.5.output.dense.bias, Shape: torch.Size([768]), Grad: True\n",
            "Param Name: bert.encoder.layer.5.output.LayerNorm.weight, Shape: torch.Size([768]), Grad: True\n",
            "Param Name: bert.encoder.layer.5.output.LayerNorm.bias, Shape: torch.Size([768]), Grad: True\n",
            "Param Name: bert.encoder.layer.6.attention.self.query.weight, Shape: torch.Size([768, 768]), Grad: True\n",
            "Param Name: bert.encoder.layer.6.attention.self.query.bias, Shape: torch.Size([768]), Grad: True\n",
            "Param Name: bert.encoder.layer.6.attention.self.key.weight, Shape: torch.Size([768, 768]), Grad: True\n",
            "Param Name: bert.encoder.layer.6.attention.self.key.bias, Shape: torch.Size([768]), Grad: True\n",
            "Param Name: bert.encoder.layer.6.attention.self.value.weight, Shape: torch.Size([768, 768]), Grad: True\n",
            "Param Name: bert.encoder.layer.6.attention.self.value.bias, Shape: torch.Size([768]), Grad: True\n",
            "Param Name: bert.encoder.layer.6.attention.output.dense.weight, Shape: torch.Size([768, 768]), Grad: True\n",
            "Param Name: bert.encoder.layer.6.attention.output.dense.bias, Shape: torch.Size([768]), Grad: True\n",
            "Param Name: bert.encoder.layer.6.attention.output.LayerNorm.weight, Shape: torch.Size([768]), Grad: True\n",
            "Param Name: bert.encoder.layer.6.attention.output.LayerNorm.bias, Shape: torch.Size([768]), Grad: True\n",
            "Param Name: bert.encoder.layer.6.intermediate.dense.weight, Shape: torch.Size([3072, 768]), Grad: True\n",
            "Param Name: bert.encoder.layer.6.intermediate.dense.bias, Shape: torch.Size([3072]), Grad: True\n",
            "Param Name: bert.encoder.layer.6.output.dense.weight, Shape: torch.Size([768, 3072]), Grad: True\n",
            "Param Name: bert.encoder.layer.6.output.dense.bias, Shape: torch.Size([768]), Grad: True\n",
            "Param Name: bert.encoder.layer.6.output.LayerNorm.weight, Shape: torch.Size([768]), Grad: True\n",
            "Param Name: bert.encoder.layer.6.output.LayerNorm.bias, Shape: torch.Size([768]), Grad: True\n",
            "Param Name: bert.encoder.layer.7.attention.self.query.weight, Shape: torch.Size([768, 768]), Grad: True\n",
            "Param Name: bert.encoder.layer.7.attention.self.query.bias, Shape: torch.Size([768]), Grad: True\n",
            "Param Name: bert.encoder.layer.7.attention.self.key.weight, Shape: torch.Size([768, 768]), Grad: True\n",
            "Param Name: bert.encoder.layer.7.attention.self.key.bias, Shape: torch.Size([768]), Grad: True\n",
            "Param Name: bert.encoder.layer.7.attention.self.value.weight, Shape: torch.Size([768, 768]), Grad: True\n",
            "Param Name: bert.encoder.layer.7.attention.self.value.bias, Shape: torch.Size([768]), Grad: True\n",
            "Param Name: bert.encoder.layer.7.attention.output.dense.weight, Shape: torch.Size([768, 768]), Grad: True\n",
            "Param Name: bert.encoder.layer.7.attention.output.dense.bias, Shape: torch.Size([768]), Grad: True\n",
            "Param Name: bert.encoder.layer.7.attention.output.LayerNorm.weight, Shape: torch.Size([768]), Grad: True\n",
            "Param Name: bert.encoder.layer.7.attention.output.LayerNorm.bias, Shape: torch.Size([768]), Grad: True\n",
            "Param Name: bert.encoder.layer.7.intermediate.dense.weight, Shape: torch.Size([3072, 768]), Grad: True\n",
            "Param Name: bert.encoder.layer.7.intermediate.dense.bias, Shape: torch.Size([3072]), Grad: True\n",
            "Param Name: bert.encoder.layer.7.output.dense.weight, Shape: torch.Size([768, 3072]), Grad: True\n",
            "Param Name: bert.encoder.layer.7.output.dense.bias, Shape: torch.Size([768]), Grad: True\n",
            "Param Name: bert.encoder.layer.7.output.LayerNorm.weight, Shape: torch.Size([768]), Grad: True\n",
            "Param Name: bert.encoder.layer.7.output.LayerNorm.bias, Shape: torch.Size([768]), Grad: True\n",
            "Param Name: bert.encoder.layer.8.attention.self.query.weight, Shape: torch.Size([768, 768]), Grad: True\n",
            "Param Name: bert.encoder.layer.8.attention.self.query.bias, Shape: torch.Size([768]), Grad: True\n",
            "Param Name: bert.encoder.layer.8.attention.self.key.weight, Shape: torch.Size([768, 768]), Grad: True\n",
            "Param Name: bert.encoder.layer.8.attention.self.key.bias, Shape: torch.Size([768]), Grad: True\n",
            "Param Name: bert.encoder.layer.8.attention.self.value.weight, Shape: torch.Size([768, 768]), Grad: True\n",
            "Param Name: bert.encoder.layer.8.attention.self.value.bias, Shape: torch.Size([768]), Grad: True\n",
            "Param Name: bert.encoder.layer.8.attention.output.dense.weight, Shape: torch.Size([768, 768]), Grad: True\n",
            "Param Name: bert.encoder.layer.8.attention.output.dense.bias, Shape: torch.Size([768]), Grad: True\n",
            "Param Name: bert.encoder.layer.8.attention.output.LayerNorm.weight, Shape: torch.Size([768]), Grad: True\n",
            "Param Name: bert.encoder.layer.8.attention.output.LayerNorm.bias, Shape: torch.Size([768]), Grad: True\n",
            "Param Name: bert.encoder.layer.8.intermediate.dense.weight, Shape: torch.Size([3072, 768]), Grad: True\n",
            "Param Name: bert.encoder.layer.8.intermediate.dense.bias, Shape: torch.Size([3072]), Grad: True\n",
            "Param Name: bert.encoder.layer.8.output.dense.weight, Shape: torch.Size([768, 3072]), Grad: True\n",
            "Param Name: bert.encoder.layer.8.output.dense.bias, Shape: torch.Size([768]), Grad: True\n",
            "Param Name: bert.encoder.layer.8.output.LayerNorm.weight, Shape: torch.Size([768]), Grad: True\n",
            "Param Name: bert.encoder.layer.8.output.LayerNorm.bias, Shape: torch.Size([768]), Grad: True\n",
            "Param Name: bert.encoder.layer.9.attention.self.query.weight, Shape: torch.Size([768, 768]), Grad: True\n",
            "Param Name: bert.encoder.layer.9.attention.self.query.bias, Shape: torch.Size([768]), Grad: True\n",
            "Param Name: bert.encoder.layer.9.attention.self.key.weight, Shape: torch.Size([768, 768]), Grad: True\n",
            "Param Name: bert.encoder.layer.9.attention.self.key.bias, Shape: torch.Size([768]), Grad: True\n",
            "Param Name: bert.encoder.layer.9.attention.self.value.weight, Shape: torch.Size([768, 768]), Grad: True\n",
            "Param Name: bert.encoder.layer.9.attention.self.value.bias, Shape: torch.Size([768]), Grad: True\n",
            "Param Name: bert.encoder.layer.9.attention.output.dense.weight, Shape: torch.Size([768, 768]), Grad: True\n",
            "Param Name: bert.encoder.layer.9.attention.output.dense.bias, Shape: torch.Size([768]), Grad: True\n",
            "Param Name: bert.encoder.layer.9.attention.output.LayerNorm.weight, Shape: torch.Size([768]), Grad: True\n",
            "Param Name: bert.encoder.layer.9.attention.output.LayerNorm.bias, Shape: torch.Size([768]), Grad: True\n",
            "Param Name: bert.encoder.layer.9.intermediate.dense.weight, Shape: torch.Size([3072, 768]), Grad: True\n",
            "Param Name: bert.encoder.layer.9.intermediate.dense.bias, Shape: torch.Size([3072]), Grad: True\n",
            "Param Name: bert.encoder.layer.9.output.dense.weight, Shape: torch.Size([768, 3072]), Grad: True\n",
            "Param Name: bert.encoder.layer.9.output.dense.bias, Shape: torch.Size([768]), Grad: True\n",
            "Param Name: bert.encoder.layer.9.output.LayerNorm.weight, Shape: torch.Size([768]), Grad: True\n",
            "Param Name: bert.encoder.layer.9.output.LayerNorm.bias, Shape: torch.Size([768]), Grad: True\n",
            "Param Name: bert.encoder.layer.10.attention.self.query.weight, Shape: torch.Size([768, 768]), Grad: True\n",
            "Param Name: bert.encoder.layer.10.attention.self.query.bias, Shape: torch.Size([768]), Grad: True\n",
            "Param Name: bert.encoder.layer.10.attention.self.key.weight, Shape: torch.Size([768, 768]), Grad: True\n",
            "Param Name: bert.encoder.layer.10.attention.self.key.bias, Shape: torch.Size([768]), Grad: True\n",
            "Param Name: bert.encoder.layer.10.attention.self.value.weight, Shape: torch.Size([768, 768]), Grad: True\n",
            "Param Name: bert.encoder.layer.10.attention.self.value.bias, Shape: torch.Size([768]), Grad: True\n",
            "Param Name: bert.encoder.layer.10.attention.output.dense.weight, Shape: torch.Size([768, 768]), Grad: True\n",
            "Param Name: bert.encoder.layer.10.attention.output.dense.bias, Shape: torch.Size([768]), Grad: True\n",
            "Param Name: bert.encoder.layer.10.attention.output.LayerNorm.weight, Shape: torch.Size([768]), Grad: True\n",
            "Param Name: bert.encoder.layer.10.attention.output.LayerNorm.bias, Shape: torch.Size([768]), Grad: True\n",
            "Param Name: bert.encoder.layer.10.intermediate.dense.weight, Shape: torch.Size([3072, 768]), Grad: True\n",
            "Param Name: bert.encoder.layer.10.intermediate.dense.bias, Shape: torch.Size([3072]), Grad: True\n",
            "Param Name: bert.encoder.layer.10.output.dense.weight, Shape: torch.Size([768, 3072]), Grad: True\n",
            "Param Name: bert.encoder.layer.10.output.dense.bias, Shape: torch.Size([768]), Grad: True\n",
            "Param Name: bert.encoder.layer.10.output.LayerNorm.weight, Shape: torch.Size([768]), Grad: True\n",
            "Param Name: bert.encoder.layer.10.output.LayerNorm.bias, Shape: torch.Size([768]), Grad: True\n",
            "Param Name: bert.encoder.layer.11.attention.self.query.weight, Shape: torch.Size([768, 768]), Grad: True\n",
            "Param Name: bert.encoder.layer.11.attention.self.query.bias, Shape: torch.Size([768]), Grad: True\n",
            "Param Name: bert.encoder.layer.11.attention.self.key.weight, Shape: torch.Size([768, 768]), Grad: True\n",
            "Param Name: bert.encoder.layer.11.attention.self.key.bias, Shape: torch.Size([768]), Grad: True\n",
            "Param Name: bert.encoder.layer.11.attention.self.value.weight, Shape: torch.Size([768, 768]), Grad: True\n",
            "Param Name: bert.encoder.layer.11.attention.self.value.bias, Shape: torch.Size([768]), Grad: True\n",
            "Param Name: bert.encoder.layer.11.attention.output.dense.weight, Shape: torch.Size([768, 768]), Grad: True\n",
            "Param Name: bert.encoder.layer.11.attention.output.dense.bias, Shape: torch.Size([768]), Grad: True\n",
            "Param Name: bert.encoder.layer.11.attention.output.LayerNorm.weight, Shape: torch.Size([768]), Grad: True\n",
            "Param Name: bert.encoder.layer.11.attention.output.LayerNorm.bias, Shape: torch.Size([768]), Grad: True\n",
            "Param Name: bert.encoder.layer.11.intermediate.dense.weight, Shape: torch.Size([3072, 768]), Grad: True\n",
            "Param Name: bert.encoder.layer.11.intermediate.dense.bias, Shape: torch.Size([3072]), Grad: True\n",
            "Param Name: bert.encoder.layer.11.output.dense.weight, Shape: torch.Size([768, 3072]), Grad: True\n",
            "Param Name: bert.encoder.layer.11.output.dense.bias, Shape: torch.Size([768]), Grad: True\n",
            "Param Name: bert.encoder.layer.11.output.LayerNorm.weight, Shape: torch.Size([768]), Grad: True\n",
            "Param Name: bert.encoder.layer.11.output.LayerNorm.bias, Shape: torch.Size([768]), Grad: True\n",
            "Param Name: bert.pooler.dense.weight, Shape: torch.Size([768, 768]), Grad: True\n",
            "Param Name: bert.pooler.dense.bias, Shape: torch.Size([768]), Grad: True\n",
            "Param Name: classifier.0.weight, Shape: torch.Size([32, 768]), Grad: True\n",
            "Param Name: classifier.0.bias, Shape: torch.Size([32]), Grad: True\n",
            "Param Name: classifier.3.weight, Shape: torch.Size([2, 32]), Grad: True\n",
            "Param Name: classifier.3.bias, Shape: torch.Size([2]), Grad: True\n"
          ]
        }
      ],
      "source": [
        "# 모든 파라미터의 gradient를 freeze 해보고 제대로 변경되었는지 확인하기 위해 모델의 모든 파라미터를 출력해보자.\n",
        "for name, param in model_freeze.named_parameters():\n",
        "    print(f\"Param Name: {name}, Shape: {param.shape}, Grad: {param.requires_grad}\")"
      ]
    },
    {
      "cell_type": "markdown",
      "metadata": {
        "id": "NsMgM3sK5Q3t"
      },
      "source": [
        "## Challenge"
      ]
    },
    {
      "cell_type": "markdown",
      "metadata": {
        "id": "vUn-6PFP5Q3t"
      },
      "source": [
        "### `scheduler` 를 생성 \n",
        "- 스케쥴러를 알기 전에 먼저 `epoch`의 개념을 알아야 한다. Epoch는 dataset를 **몇 번 반복**해 학습할 것인지를 의미한다. 만약 dataset의 개수가 2,000개이고 epoch을 2번 학습하게 되면 총 4,000개의 데이터를 학습하게 된다.   \n",
        "- 스케쥴러는 epoch에 따라 learning rate의 값을 조정하는 것을 의미한다. \n",
        "- 예를 들어 [여기](https://huggingface.co/docs/transformers/main_classes/optimizer_schedules#transformers.get_linear_schedule_with_warmup)의 그림에서 볼 수 있듯이 `get_linear_schedule_with_warmup`는 특정 step까지는 learning rate를 천천히 상승시키다가 고점에 도달하면 다시 하락시킨다. "
      ]
    },
    {
      "cell_type": "markdown",
      "metadata": {
        "id": "_FuADvuT5Q3t"
      },
      "source": [
        "### `model`, `optimizer`, `scheduler`를 초기화(=인스턴스 생성)하는 함수를 구현하라"
      ]
    },
    {
      "cell_type": "code",
      "execution_count": 36,
      "metadata": {
        "ExecuteTime": {
          "end_time": "2022-02-02T04:01:59.217735Z",
          "start_time": "2022-02-02T04:01:59.210482Z"
        },
        "id": "-sE7xjYcRD1p"
      },
      "outputs": [],
      "source": [
        "from torch.nn import CrossEntropyLoss\n",
        "from torch.optim import AdamW\n",
        "from torch.nn.utils import clip_grad_norm_\n",
        "from transformers import get_linear_schedule_with_warmup, get_constant_schedule"
      ]
    },
    {
      "cell_type": "code",
      "execution_count": 43,
      "metadata": {
        "ExecuteTime": {
          "end_time": "2022-02-02T04:01:59.549660Z",
          "start_time": "2022-02-02T04:01:59.545752Z"
        },
        "id": "2eTFXzy8VK9R"
      },
      "outputs": [],
      "source": [
        "# model:CustomClassifier 사용, hidden size는 768, label 개수는 2\n",
        "# optimizer: AdamW 사용, learning rate는 2e-5\n",
        "# scheduler: transformers.get_linear_schedule_with_warmup 함수 사용, 단, num_warmup_steps 매개 변수는 사용하지 않음\n",
        "\n",
        "def initializer(train_dataloader, epochs=2):\n",
        "    \"\"\"\n",
        "    모델, 옵티마이저, 스케쥴러를 초기화한 후 반환\n",
        "    \"\"\"\n",
        "    \n",
        "    model = CustomClassifier(hidden_size, n_label)\n",
        "\n",
        "    optimizer = AdamW(\n",
        "        model.parameters(), # update 대상 파라미터를 입력\n",
        "        lr=2e-5,\n",
        "        eps=1e-8\n",
        "    )\n",
        "    \n",
        "    total_steps = len(train_dataloader) * epochs\n",
        "    print(f\"Total train steps with {epochs} epochs: {total_steps}\")\n",
        "\n",
        "    scheduler = get_linear_schedule_with_warmup(\n",
        "        optimizer, \n",
        "        num_warmup_steps = 0,\n",
        "        num_training_steps = total_steps\n",
        "    )\n",
        "\n",
        "    return model, optimizer, scheduler"
      ]
    },
    {
      "cell_type": "markdown",
      "metadata": {
        "id": "Xz-8_5as5Q3u"
      },
      "source": [
        "### model, optimizer, scheduler의 파라미터 저장하는 함수를 구현하라"
      ]
    },
    {
      "cell_type": "code",
      "execution_count": 40,
      "metadata": {
        "ExecuteTime": {
          "end_time": "2022-02-02T04:02:02.786877Z",
          "start_time": "2022-02-02T04:02:02.783726Z"
        },
        "id": "vIP1BjFA5Q3u"
      },
      "outputs": [],
      "source": [
        "# 모델 저장 함수 구현\n",
        "\n",
        "def save_checkpoint(path, model, optimizer, scheduler, epoch, loss):\n",
        "    file_name = f'{path}/model.ckpt.{epoch}'\n",
        "    \n",
        "    # torch.save 함수 참고\n",
        "    torch.save(\n",
        "        {\n",
        "            'epoch': epoch,\n",
        "            'model_state_dict': model.state_dict(),\n",
        "            'optimizer_state_dict': optimizer.state_dict(),\n",
        "            'scheduler_state_dict': scheduler.state_dict(),\n",
        "            'loss' : loss\n",
        "        }, \n",
        "        file_name\n",
        "    )\n",
        "    \n",
        "    print(f\"Saving epoch {epoch} checkpoint at {file_name}\")"
      ]
    },
    {
      "cell_type": "markdown",
      "metadata": {
        "id": "a3BUrgtJ5Q3v"
      },
      "source": [
        "### `validate()` 함수 구현 \n",
        "- `validate()` 함수 내 model의 상태는 **evaluate**이어야 한다. evaluate 상태의 model은 dropout을 진행하지 않는다. \n",
        "- **forward**를 진행할 때 `with torch.no_grad(): ...` 설정해 미분 계산을 방지한다.\n"
      ]
    },
    {
      "cell_type": "code",
      "execution_count": 45,
      "metadata": {
        "ExecuteTime": {
          "end_time": "2022-02-02T04:02:11.636684Z",
          "start_time": "2022-02-02T04:02:11.631550Z"
        },
        "id": "VHpuV0CXUFxR"
      },
      "outputs": [],
      "source": [
        "# input: model, valid_dataloader\n",
        "# output: loss, 정확도\n",
        "\n",
        "def validate(model, valid_dataloader):\n",
        "#   global loss_fct\n",
        "   \n",
        "    # 모델을 evaluate 모드로 설정 & device 할당\n",
        "    model.eval()\n",
        "    model.to(device)\n",
        "    \n",
        "    total_loss, total_acc= 0,0\n",
        "        \n",
        "    for step, batch in enumerate(valid_dataloader):\n",
        "        \n",
        "        # tensor 연산 전, 각 tensor에 device 할당\n",
        "        batch = None\n",
        "            \n",
        "        batch_input, batch_label = batch\n",
        "            \n",
        "        # gradient 계산하지 않고 forward 진행\n",
        "        with torch.no_grad():\n",
        "            logits = model(**batch_input)\n",
        "            \n",
        "        # loss\n",
        "        loss = loss_fct(logits, batch_label)\n",
        "        total_loss += loss.item()\n",
        "        \n",
        "        # accuracy\n",
        "        probs = F.softmax(logits, dim=1)\n",
        "        preds = torch.argmax(probs, dim=1).flatten()\n",
        "        acc = (preds == batch_label).cpu().numpy().mean()\n",
        "        total_acc+=acc\n",
        "    \n",
        "    total_loss = total_loss/(step+1)\n",
        "    total_acc = total_acc/(step+1)*100\n",
        "\n",
        "    return total_loss, total_acc\n"
      ]
    },
    {
      "cell_type": "markdown",
      "metadata": {
        "id": "NukaJc15UFxQ"
      },
      "source": [
        "### `train()` 함수에 `epoch`와 `clip_grad_norm` 추가\n",
        "- data_loader를 `epoch`만큼 반복하면서 학습하도록 `train()` 함수를 수정하라\n",
        "- `gradient cliping`은 미분 값 너무 큰 경우 gradient exploding되는 현상을 막기 위해 미분값이 `threshold`를 넘을 경우 특정 비율을 미분 값에 곱해 크기를 줄여준다.\n",
        "- Reference\n",
        "  - [clip_grad_norm_ official document](https://pytorch.org/docs/stable/generated/torch.nn.utils.clip_grad_norm_.html)\n",
        "  - [그래디언트 클립핑 설명 한국어 블로그](https://kh-kim.gitbook.io/natural-language-processing-with-pytorch/00-cover-6/05-gradient-clipping)"
      ]
    },
    {
      "cell_type": "code",
      "execution_count": 57,
      "metadata": {
        "ExecuteTime": {
          "end_time": "2022-02-02T04:02:10.624280Z",
          "start_time": "2022-02-02T04:02:10.615781Z"
        },
        "id": "ZvY5rxDKHQAp"
      },
      "outputs": [],
      "source": [
        "# 위에서 구현한 모델 저장 함수(save_checkpoint)와 validate 함수도 추가해보자\n",
        "\n",
        "loss_fct = CrossEntropyLoss()\n",
        "\n",
        "def train(model, train_dataloader, valid_dataloader=None, epochs=2):\n",
        "        # global scheduler, loss_fct\n",
        "        \n",
        "        # train_dataloaer 학습을 epochs만큼 반복\n",
        "        for epoch in range(epochs):\n",
        "            print(f\"*****Epoch {epoch} Train Start*****\")\n",
        "            \n",
        "            # 배치 단위 평균 loss와 총 평균 loss 계산하기위해 변수 생성\n",
        "            total_loss, batch_loss, batch_count = 0,0,0\n",
        "        \n",
        "            # model을 train 모드로 설정 & device 할당\n",
        "            model.train()\n",
        "            model.to(device)\n",
        "            \n",
        "            # data iterator를 돌면서 하나씩 학습\n",
        "            for step, batch in enumerate(train_dataloader):\n",
        "                batch_count+=1\n",
        "                \n",
        "                # tensor 연산 전, 각 tensor에 device 할당\n",
        "                batch = tuple(item.to(device) for item in batch)\n",
        "            \n",
        "                batch_input, batch_label = batch\n",
        "            \n",
        "                # batch마다 모델이 갖고 있는 기존 gradient를 초기화\n",
        "                model.zero_grad()\n",
        "            \n",
        "                # forward\n",
        "                logits = model(**batch_input)\n",
        "            \n",
        "                # loss\n",
        "                loss = loss_fct(logits, batch_label)\n",
        "                batch_loss += loss.item()\n",
        "                total_loss += loss.item()\n",
        "            \n",
        "                # backward -> 파라미터의 미분(gradient)를 자동으로 계산\n",
        "                loss.backward()\n",
        "                \n",
        "                # gradient clipping 적용 (max_norm = 1)\n",
        "                clip_grad_norm_(model.parameters(), 1.0)\n",
        "                \n",
        "                # optimizer & scheduler 업데이트\n",
        "                optimizer.step()\n",
        "                scheduler.step()\n",
        "                \n",
        "                # 배치 10개씩 처리할 때마다 평균 loss와 lr를 출력\n",
        "                if (step % 10 == 0 and step != 0):\n",
        "                    learning_rate = optimizer.param_groups[0]['lr']\n",
        "                    print(f\"Epoch: {epoch}, Step : {step}, LR : {learning_rate}, Avg Loss : {batch_loss / batch_count:.4f}\")\n",
        "\n",
        "                    # reset \n",
        "                    batch_loss, batch_count = 0,0\n",
        "\n",
        "            print(f\"Epoch {epoch} Total Mean Loss : {total_loss/(step+1):.4f}\")\n",
        "            print(f\"*****Epoch {epoch} Train Finish*****\\n\")\n",
        "            \n",
        "            if valid_dataloader is not None:\n",
        "                print(f\"*****Epoch {epoch} Valid Start*****\")\n",
        "                valid_loss, valid_acc = validate(model, valid_dataloader)\n",
        "                print(f\"Epoch {epoch} Valid Loss : {valid_loss:.4f} Valid Acc : {valid_acc:.2f}\")\n",
        "                print(f\"*****Epoch {epoch} Valid Finish*****\\n\")\n",
        "            \n",
        "            # checkpoint 저장\n",
        "            save_checkpoint(\".\", model, optimizer, scheduler, epoch, total_loss/(step+1))\n",
        "                \n",
        "        print(\"Train Completed. End Program.\")"
      ]
    },
    {
      "cell_type": "markdown",
      "metadata": {
        "id": "4NWKzxIaf1QJ"
      },
      "source": [
        "## Advanced"
      ]
    },
    {
      "cell_type": "markdown",
      "metadata": {
        "id": "gFWnii7a5Q3w"
      },
      "source": [
        "### 학습 데이터를 epoch 4까지 학습\n",
        "- 매 epoch마다 다음을 수행한다.\n",
        "  - 학습이 끝난 후 validate() 함수 실행 \n",
        "  - validate() 함수가 끝난 후 model save 함수 실행"
      ]
    },
    {
      "cell_type": "code",
      "execution_count": null,
      "metadata": {
        "ExecuteTime": {
          "end_time": "2022-02-02T06:02:11.377612Z",
          "start_time": "2022-02-02T04:02:20.931961Z"
        },
        "id": "7Er1qKtsf1QJ"
      },
      "outputs": [],
      "source": [
        "# 4 epoch 학습\n",
        "epochs=4\n",
        "model, optimizer, scheduler = initializer(train_dataloader, epochs)\n",
        "train(model, train_dataloader, valid_dataloader, epochs)"
      ]
    },
    {
      "cell_type": "markdown",
      "metadata": {
        "ExecuteTime": {
          "end_time": "2022-02-02T03:27:18.246441Z",
          "start_time": "2022-02-02T03:27:18.236617Z"
        },
        "id": "vA3_vqqCXccc"
      },
      "source": [
        "### 가장 dev acc 성능이 높았던 epoch의 모델의 체크 포인트를 불러와 로드하자"
      ]
    },
    {
      "cell_type": "code",
      "execution_count": null,
      "metadata": {
        "ExecuteTime": {
          "end_time": "2022-02-02T06:22:27.646150Z",
          "start_time": "2022-02-02T06:22:26.945572Z"
        },
        "id": "mvfkSff25Q3z"
      },
      "outputs": [],
      "source": [
        "# torch.load 함수 사용\n",
        "\n",
        "checkpoint = None"
      ]
    },
    {
      "cell_type": "code",
      "execution_count": null,
      "metadata": {
        "ExecuteTime": {
          "end_time": "2022-02-02T06:22:36.415665Z",
          "start_time": "2022-02-02T06:22:36.407250Z"
        },
        "id": "YqcxMmTj5Q3z"
      },
      "outputs": [],
      "source": [
        "# checkpoint의 key 종류를 확인\n",
        "checkpoint.keys()"
      ]
    },
    {
      "cell_type": "code",
      "execution_count": null,
      "metadata": {
        "ExecuteTime": {
          "end_time": "2022-02-02T06:22:40.272939Z",
          "start_time": "2022-02-02T06:22:37.010491Z"
        },
        "id": "wTvFYgNi5Q30"
      },
      "outputs": [],
      "source": [
        "# 위에서 구현한 initializer 함수 사용하여 model, optimizer, scheduler 초기화\n",
        "\n",
        "epochs=1\n",
        "model, optimizer, scheduler = None"
      ]
    },
    {
      "cell_type": "code",
      "execution_count": null,
      "metadata": {
        "ExecuteTime": {
          "end_time": "2022-02-02T06:22:40.443912Z",
          "start_time": "2022-02-02T06:22:40.274323Z"
        },
        "id": "CtR2sTW55Q30"
      },
      "outputs": [],
      "source": [
        "model.load_state_dict(checkpoint[\"model_state_dict\"])"
      ]
    },
    {
      "cell_type": "markdown",
      "metadata": {
        "id": "Tzske7SR5Q30"
      },
      "source": [
        "### 모델 예측 함수 구현\n",
        "- test_dataloader를 입력받아 모델이 예측한 확률값 (probs)과 실제 정답 (label) 을 출력하는 `\bpredict()` 함수를 구현하자.\n",
        "- 함수 정의\n",
        "  - 입력 매개변수\n",
        "    - `model` : `CustomClassifier` 모델. logits를 반환함 \n",
        "    - `test_dataloader` : test 데이터셋의 텍스트와 레이블을 배치로 갖는 dataloader\n",
        "  - 조건\n",
        "    - `test_dataloader`는 이터레이터기 때문에 이터레이터를 순회하면서 `all_logits` 리스트에 배치 단위의 logits를 저장하고 `all_labels` 리스트에 배치 단위의 레이블 (0 또는 1 값)을 저장하라\n",
        "  - 반환값\n",
        "    - `probs`\n",
        "      - logits에 softmax 함수를 취한 확률값. (test data 개수, label 개수) shape을 가짐. \bnp.array 타입으로 데이터 타입을 변환할 것.\n",
        "    - `labels`\n",
        "      - 0 또는 1 값을 갖는 np.array. (test data 개수,) shape을 가짐."
      ]
    },
    {
      "cell_type": "code",
      "execution_count": null,
      "metadata": {
        "ExecuteTime": {
          "end_time": "2022-02-02T06:22:48.062229Z",
          "start_time": "2022-02-02T06:22:48.057531Z"
        },
        "id": "yQ7WiD1Oigg9"
      },
      "outputs": [],
      "source": [
        "def predict(model, test_dataloader):\n",
        "    \"\"\"\n",
        "    test_dataloader의 label별 확률값과 실제 label 값을 반환\n",
        "    \"\"\"\n",
        "\n",
        "    # model을 eval 모드로 설정 & device 할당\n",
        "    None\n",
        "\n",
        "    all_logits = []\n",
        "    all_labels = []\n",
        "\n",
        "    for step, batch in enumerate(test_dataloader):\n",
        "        \n",
        "        batch_input, batch_label = batch\n",
        "        \n",
        "        # batch_input을 device 할당\n",
        "        None\n",
        "\n",
        "        # model에 batch_input을 넣어 logit 반환 & all_logits, all_labels 리스트에 값 추가 \n",
        "        None\n",
        "    \n",
        "\n",
        "    probs = None # logits을 확률값으로 변환 & Tensor 타입을 numpy.array 타입으로 변환\n",
        "    all_labels = None #  Tensor 타입을 numpy.array 타입으로 변환\n",
        "\n",
        "    return probs, all_labels\n",
        "\n"
      ]
    },
    {
      "cell_type": "markdown",
      "metadata": {
        "id": "lOxCjZ2g6ZeK"
      },
      "source": [
        "- 모델이 예측한 확률값과 실제 label을 입력 받아 정확도를 출력하는 **accuracy()** 함수를 구현하자. \n",
        "- 함수 정의 \n",
        "  - 입력 매개변수 \n",
        "    - `probs` : `predict()` 함수의 반환값. 2차원의 np.array\n",
        "    - `labels` : `predict()` 함수의 반환값. 1차원의 np.array\n",
        "  - 조건\n",
        "    - `probs`의 확률값이 0.5 이상이면 1, 이하이면 0이 되도록 만든다. 모델이 예측한 레이블을 실제값(`labels`)과 비교해 예측값과 실제값이 같으면 1, 다르면 0 점수를 준다. 모든 데이터에 대해 점수의 평균값이 accuracy 값이다. \n",
        "  - 반환값 \n",
        "    - `acc` : 정확도 (Float type)"
      ]
    },
    {
      "cell_type": "code",
      "execution_count": null,
      "metadata": {
        "ExecuteTime": {
          "end_time": "2022-02-02T06:22:48.296419Z",
          "start_time": "2022-02-02T06:22:48.293737Z"
        },
        "id": "42-umZ3m5Q32"
      },
      "outputs": [],
      "source": [
        "# accuracy 함수 구현\n",
        "def accuracy(probs, labels):\n",
        "    y_pred = None # probs(확률값)을 label로 변경(0.5 이상이면 1, 0.5 미만이면 0)\n",
        "    acc = None # 정확도 계산\n",
        "    return acc "
      ]
    },
    {
      "cell_type": "code",
      "execution_count": null,
      "metadata": {
        "ExecuteTime": {
          "end_time": "2022-02-02T06:24:22.752497Z",
          "start_time": "2022-02-02T06:22:48.652784Z"
        },
        "id": "SwkrRPAhjsXb"
      },
      "outputs": [],
      "source": [
        "probs, labels = predict(model, test_dataloader)"
      ]
    },
    {
      "cell_type": "code",
      "execution_count": null,
      "metadata": {
        "ExecuteTime": {
          "end_time": "2022-02-02T06:24:22.759367Z",
          "start_time": "2022-02-02T06:24:22.753997Z"
        },
        "id": "MxDI8PRA5Q32"
      },
      "outputs": [],
      "source": [
        "accuracy(probs, labels)"
      ]
    },
    {
      "cell_type": "markdown",
      "metadata": {
        "id": "3mqUfkx-5Q33"
      },
      "source": [
        "### `sklearn.metrics`의 `accuracy_score`, `roc_auc_score` 함수를 이용해 정확도와 auc를 계산하라"
      ]
    },
    {
      "cell_type": "code",
      "execution_count": null,
      "metadata": {
        "ExecuteTime": {
          "end_time": "2022-02-02T06:24:23.111879Z",
          "start_time": "2022-02-02T06:24:22.760568Z"
        },
        "id": "VFWj4lcp5Q33"
      },
      "outputs": [],
      "source": [
        "from sklearn.metrics import roc_auc_score, accuracy_score"
      ]
    },
    {
      "cell_type": "code",
      "execution_count": null,
      "metadata": {
        "ExecuteTime": {
          "end_time": "2022-02-02T06:24:23.116872Z",
          "start_time": "2022-02-02T06:24:23.113064Z"
        },
        "id": "p9BEe2mflTem"
      },
      "outputs": [],
      "source": [
        "# 정확도 출력\n",
        "\n",
        "None"
      ]
    },
    {
      "cell_type": "code",
      "execution_count": null,
      "metadata": {
        "ExecuteTime": {
          "end_time": "2022-02-02T06:24:23.125650Z",
          "start_time": "2022-02-02T06:24:23.117847Z"
        },
        "id": "oCl6BiPGpCPW"
      },
      "outputs": [],
      "source": [
        "# auc 출력\n",
        "\n",
        "None"
      ]
    }
  ],
  "metadata": {
    "colab": {
      "collapsed_sections": [],
      "name": "Week2_4_assignment.ipynb",
      "provenance": []
    },
    "hide_input": false,
    "kernelspec": {
      "display_name": "Python 3 (ipykernel)",
      "language": "python",
      "name": "python3"
    },
    "language_info": {
      "codemirror_mode": {
        "name": "ipython",
        "version": 3
      },
      "file_extension": ".py",
      "mimetype": "text/x-python",
      "name": "python",
      "nbconvert_exporter": "python",
      "pygments_lexer": "ipython3",
      "version": "3.8.12"
    },
    "toc": {
      "base_numbering": 1,
      "nav_menu": {},
      "number_sections": false,
      "sideBar": true,
      "skip_h1_title": false,
      "title_cell": "Table of Contents",
      "title_sidebar": "Contents",
      "toc_cell": false,
      "toc_position": {},
      "toc_section_display": true,
      "toc_window_display": false
    },
    "widgets": {
      "application/vnd.jupyter.widget-state+json": {
        "cb47e32487a64912b834d3c13052d9d6": {
          "model_module": "@jupyter-widgets/controls",
          "model_name": "HBoxModel",
          "model_module_version": "1.5.0",
          "state": {
            "_dom_classes": [],
            "_model_module": "@jupyter-widgets/controls",
            "_model_module_version": "1.5.0",
            "_model_name": "HBoxModel",
            "_view_count": null,
            "_view_module": "@jupyter-widgets/controls",
            "_view_module_version": "1.5.0",
            "_view_name": "HBoxView",
            "box_style": "",
            "children": [
              "IPY_MODEL_7a25876fd356489c8f60ab328e1592c7",
              "IPY_MODEL_565f8beb27684a6d99678439cea9f0ee",
              "IPY_MODEL_5ffba08288e549e28be06edf7063cf85"
            ],
            "layout": "IPY_MODEL_53a315ff31004724850ffc5004b0fe6f"
          }
        },
        "7a25876fd356489c8f60ab328e1592c7": {
          "model_module": "@jupyter-widgets/controls",
          "model_name": "HTMLModel",
          "model_module_version": "1.5.0",
          "state": {
            "_dom_classes": [],
            "_model_module": "@jupyter-widgets/controls",
            "_model_module_version": "1.5.0",
            "_model_name": "HTMLModel",
            "_view_count": null,
            "_view_module": "@jupyter-widgets/controls",
            "_view_module_version": "1.5.0",
            "_view_name": "HTMLView",
            "description": "",
            "description_tooltip": null,
            "layout": "IPY_MODEL_3061342438d84ceeaee139ac471e43a9",
            "placeholder": "​",
            "style": "IPY_MODEL_66a043e3dbc541f5a3b437bd006e5ed4",
            "value": "Downloading: 100%"
          }
        },
        "565f8beb27684a6d99678439cea9f0ee": {
          "model_module": "@jupyter-widgets/controls",
          "model_name": "FloatProgressModel",
          "model_module_version": "1.5.0",
          "state": {
            "_dom_classes": [],
            "_model_module": "@jupyter-widgets/controls",
            "_model_module_version": "1.5.0",
            "_model_name": "FloatProgressModel",
            "_view_count": null,
            "_view_module": "@jupyter-widgets/controls",
            "_view_module_version": "1.5.0",
            "_view_name": "ProgressView",
            "bar_style": "success",
            "description": "",
            "description_tooltip": null,
            "layout": "IPY_MODEL_d3044f92a35b4285b212083857fb96cb",
            "max": 248477,
            "min": 0,
            "orientation": "horizontal",
            "style": "IPY_MODEL_dd855e8e0aef4cd6b92d5745db01ed38",
            "value": 248477
          }
        },
        "5ffba08288e549e28be06edf7063cf85": {
          "model_module": "@jupyter-widgets/controls",
          "model_name": "HTMLModel",
          "model_module_version": "1.5.0",
          "state": {
            "_dom_classes": [],
            "_model_module": "@jupyter-widgets/controls",
            "_model_module_version": "1.5.0",
            "_model_name": "HTMLModel",
            "_view_count": null,
            "_view_module": "@jupyter-widgets/controls",
            "_view_module_version": "1.5.0",
            "_view_name": "HTMLView",
            "description": "",
            "description_tooltip": null,
            "layout": "IPY_MODEL_4c648e6d762c4018af8e353bb905031b",
            "placeholder": "​",
            "style": "IPY_MODEL_9da05086993e46c2ba6ea7396ad87846",
            "value": " 243k/243k [00:00&lt;00:00, 1.92MB/s]"
          }
        },
        "53a315ff31004724850ffc5004b0fe6f": {
          "model_module": "@jupyter-widgets/base",
          "model_name": "LayoutModel",
          "model_module_version": "1.2.0",
          "state": {
            "_model_module": "@jupyter-widgets/base",
            "_model_module_version": "1.2.0",
            "_model_name": "LayoutModel",
            "_view_count": null,
            "_view_module": "@jupyter-widgets/base",
            "_view_module_version": "1.2.0",
            "_view_name": "LayoutView",
            "align_content": null,
            "align_items": null,
            "align_self": null,
            "border": null,
            "bottom": null,
            "display": null,
            "flex": null,
            "flex_flow": null,
            "grid_area": null,
            "grid_auto_columns": null,
            "grid_auto_flow": null,
            "grid_auto_rows": null,
            "grid_column": null,
            "grid_gap": null,
            "grid_row": null,
            "grid_template_areas": null,
            "grid_template_columns": null,
            "grid_template_rows": null,
            "height": null,
            "justify_content": null,
            "justify_items": null,
            "left": null,
            "margin": null,
            "max_height": null,
            "max_width": null,
            "min_height": null,
            "min_width": null,
            "object_fit": null,
            "object_position": null,
            "order": null,
            "overflow": null,
            "overflow_x": null,
            "overflow_y": null,
            "padding": null,
            "right": null,
            "top": null,
            "visibility": null,
            "width": null
          }
        },
        "3061342438d84ceeaee139ac471e43a9": {
          "model_module": "@jupyter-widgets/base",
          "model_name": "LayoutModel",
          "model_module_version": "1.2.0",
          "state": {
            "_model_module": "@jupyter-widgets/base",
            "_model_module_version": "1.2.0",
            "_model_name": "LayoutModel",
            "_view_count": null,
            "_view_module": "@jupyter-widgets/base",
            "_view_module_version": "1.2.0",
            "_view_name": "LayoutView",
            "align_content": null,
            "align_items": null,
            "align_self": null,
            "border": null,
            "bottom": null,
            "display": null,
            "flex": null,
            "flex_flow": null,
            "grid_area": null,
            "grid_auto_columns": null,
            "grid_auto_flow": null,
            "grid_auto_rows": null,
            "grid_column": null,
            "grid_gap": null,
            "grid_row": null,
            "grid_template_areas": null,
            "grid_template_columns": null,
            "grid_template_rows": null,
            "height": null,
            "justify_content": null,
            "justify_items": null,
            "left": null,
            "margin": null,
            "max_height": null,
            "max_width": null,
            "min_height": null,
            "min_width": null,
            "object_fit": null,
            "object_position": null,
            "order": null,
            "overflow": null,
            "overflow_x": null,
            "overflow_y": null,
            "padding": null,
            "right": null,
            "top": null,
            "visibility": null,
            "width": null
          }
        },
        "66a043e3dbc541f5a3b437bd006e5ed4": {
          "model_module": "@jupyter-widgets/controls",
          "model_name": "DescriptionStyleModel",
          "model_module_version": "1.5.0",
          "state": {
            "_model_module": "@jupyter-widgets/controls",
            "_model_module_version": "1.5.0",
            "_model_name": "DescriptionStyleModel",
            "_view_count": null,
            "_view_module": "@jupyter-widgets/base",
            "_view_module_version": "1.2.0",
            "_view_name": "StyleView",
            "description_width": ""
          }
        },
        "d3044f92a35b4285b212083857fb96cb": {
          "model_module": "@jupyter-widgets/base",
          "model_name": "LayoutModel",
          "model_module_version": "1.2.0",
          "state": {
            "_model_module": "@jupyter-widgets/base",
            "_model_module_version": "1.2.0",
            "_model_name": "LayoutModel",
            "_view_count": null,
            "_view_module": "@jupyter-widgets/base",
            "_view_module_version": "1.2.0",
            "_view_name": "LayoutView",
            "align_content": null,
            "align_items": null,
            "align_self": null,
            "border": null,
            "bottom": null,
            "display": null,
            "flex": null,
            "flex_flow": null,
            "grid_area": null,
            "grid_auto_columns": null,
            "grid_auto_flow": null,
            "grid_auto_rows": null,
            "grid_column": null,
            "grid_gap": null,
            "grid_row": null,
            "grid_template_areas": null,
            "grid_template_columns": null,
            "grid_template_rows": null,
            "height": null,
            "justify_content": null,
            "justify_items": null,
            "left": null,
            "margin": null,
            "max_height": null,
            "max_width": null,
            "min_height": null,
            "min_width": null,
            "object_fit": null,
            "object_position": null,
            "order": null,
            "overflow": null,
            "overflow_x": null,
            "overflow_y": null,
            "padding": null,
            "right": null,
            "top": null,
            "visibility": null,
            "width": null
          }
        },
        "dd855e8e0aef4cd6b92d5745db01ed38": {
          "model_module": "@jupyter-widgets/controls",
          "model_name": "ProgressStyleModel",
          "model_module_version": "1.5.0",
          "state": {
            "_model_module": "@jupyter-widgets/controls",
            "_model_module_version": "1.5.0",
            "_model_name": "ProgressStyleModel",
            "_view_count": null,
            "_view_module": "@jupyter-widgets/base",
            "_view_module_version": "1.2.0",
            "_view_name": "StyleView",
            "bar_color": null,
            "description_width": ""
          }
        },
        "4c648e6d762c4018af8e353bb905031b": {
          "model_module": "@jupyter-widgets/base",
          "model_name": "LayoutModel",
          "model_module_version": "1.2.0",
          "state": {
            "_model_module": "@jupyter-widgets/base",
            "_model_module_version": "1.2.0",
            "_model_name": "LayoutModel",
            "_view_count": null,
            "_view_module": "@jupyter-widgets/base",
            "_view_module_version": "1.2.0",
            "_view_name": "LayoutView",
            "align_content": null,
            "align_items": null,
            "align_self": null,
            "border": null,
            "bottom": null,
            "display": null,
            "flex": null,
            "flex_flow": null,
            "grid_area": null,
            "grid_auto_columns": null,
            "grid_auto_flow": null,
            "grid_auto_rows": null,
            "grid_column": null,
            "grid_gap": null,
            "grid_row": null,
            "grid_template_areas": null,
            "grid_template_columns": null,
            "grid_template_rows": null,
            "height": null,
            "justify_content": null,
            "justify_items": null,
            "left": null,
            "margin": null,
            "max_height": null,
            "max_width": null,
            "min_height": null,
            "min_width": null,
            "object_fit": null,
            "object_position": null,
            "order": null,
            "overflow": null,
            "overflow_x": null,
            "overflow_y": null,
            "padding": null,
            "right": null,
            "top": null,
            "visibility": null,
            "width": null
          }
        },
        "9da05086993e46c2ba6ea7396ad87846": {
          "model_module": "@jupyter-widgets/controls",
          "model_name": "DescriptionStyleModel",
          "model_module_version": "1.5.0",
          "state": {
            "_model_module": "@jupyter-widgets/controls",
            "_model_module_version": "1.5.0",
            "_model_name": "DescriptionStyleModel",
            "_view_count": null,
            "_view_module": "@jupyter-widgets/base",
            "_view_module_version": "1.2.0",
            "_view_name": "StyleView",
            "description_width": ""
          }
        },
        "a947a72747c248d79ced04a6e9f35bb8": {
          "model_module": "@jupyter-widgets/controls",
          "model_name": "HBoxModel",
          "model_module_version": "1.5.0",
          "state": {
            "_dom_classes": [],
            "_model_module": "@jupyter-widgets/controls",
            "_model_module_version": "1.5.0",
            "_model_name": "HBoxModel",
            "_view_count": null,
            "_view_module": "@jupyter-widgets/controls",
            "_view_module_version": "1.5.0",
            "_view_name": "HBoxView",
            "box_style": "",
            "children": [
              "IPY_MODEL_387cbfdd17384c9ca1a83c96dd5ffaa5",
              "IPY_MODEL_f8b2283d00c44694b9c4419045d85cc4",
              "IPY_MODEL_ff2fb88e39c0424887a40c6c9b20b6fc"
            ],
            "layout": "IPY_MODEL_0df9ea59480b4da1b39dde9845c5c25a"
          }
        },
        "387cbfdd17384c9ca1a83c96dd5ffaa5": {
          "model_module": "@jupyter-widgets/controls",
          "model_name": "HTMLModel",
          "model_module_version": "1.5.0",
          "state": {
            "_dom_classes": [],
            "_model_module": "@jupyter-widgets/controls",
            "_model_module_version": "1.5.0",
            "_model_name": "HTMLModel",
            "_view_count": null,
            "_view_module": "@jupyter-widgets/controls",
            "_view_module_version": "1.5.0",
            "_view_name": "HTMLView",
            "description": "",
            "description_tooltip": null,
            "layout": "IPY_MODEL_deea5dcadb0340b586df4a944b9cc0e4",
            "placeholder": "​",
            "style": "IPY_MODEL_eef243f20f4049e48006fd5a64e26cbc",
            "value": "Downloading: 100%"
          }
        },
        "f8b2283d00c44694b9c4419045d85cc4": {
          "model_module": "@jupyter-widgets/controls",
          "model_name": "FloatProgressModel",
          "model_module_version": "1.5.0",
          "state": {
            "_dom_classes": [],
            "_model_module": "@jupyter-widgets/controls",
            "_model_module_version": "1.5.0",
            "_model_name": "FloatProgressModel",
            "_view_count": null,
            "_view_module": "@jupyter-widgets/controls",
            "_view_module_version": "1.5.0",
            "_view_name": "ProgressView",
            "bar_style": "success",
            "description": "",
            "description_tooltip": null,
            "layout": "IPY_MODEL_6e106309162c49d78c06a712e6a31c8e",
            "max": 125,
            "min": 0,
            "orientation": "horizontal",
            "style": "IPY_MODEL_16c574d949e0486b89d8da3ac77df29f",
            "value": 125
          }
        },
        "ff2fb88e39c0424887a40c6c9b20b6fc": {
          "model_module": "@jupyter-widgets/controls",
          "model_name": "HTMLModel",
          "model_module_version": "1.5.0",
          "state": {
            "_dom_classes": [],
            "_model_module": "@jupyter-widgets/controls",
            "_model_module_version": "1.5.0",
            "_model_name": "HTMLModel",
            "_view_count": null,
            "_view_module": "@jupyter-widgets/controls",
            "_view_module_version": "1.5.0",
            "_view_name": "HTMLView",
            "description": "",
            "description_tooltip": null,
            "layout": "IPY_MODEL_f44a734aef01492db46d40f05bf9e41d",
            "placeholder": "​",
            "style": "IPY_MODEL_10343ca0a19b436da52f9c815ceab761",
            "value": " 125/125 [00:00&lt;00:00, 2.72kB/s]"
          }
        },
        "0df9ea59480b4da1b39dde9845c5c25a": {
          "model_module": "@jupyter-widgets/base",
          "model_name": "LayoutModel",
          "model_module_version": "1.2.0",
          "state": {
            "_model_module": "@jupyter-widgets/base",
            "_model_module_version": "1.2.0",
            "_model_name": "LayoutModel",
            "_view_count": null,
            "_view_module": "@jupyter-widgets/base",
            "_view_module_version": "1.2.0",
            "_view_name": "LayoutView",
            "align_content": null,
            "align_items": null,
            "align_self": null,
            "border": null,
            "bottom": null,
            "display": null,
            "flex": null,
            "flex_flow": null,
            "grid_area": null,
            "grid_auto_columns": null,
            "grid_auto_flow": null,
            "grid_auto_rows": null,
            "grid_column": null,
            "grid_gap": null,
            "grid_row": null,
            "grid_template_areas": null,
            "grid_template_columns": null,
            "grid_template_rows": null,
            "height": null,
            "justify_content": null,
            "justify_items": null,
            "left": null,
            "margin": null,
            "max_height": null,
            "max_width": null,
            "min_height": null,
            "min_width": null,
            "object_fit": null,
            "object_position": null,
            "order": null,
            "overflow": null,
            "overflow_x": null,
            "overflow_y": null,
            "padding": null,
            "right": null,
            "top": null,
            "visibility": null,
            "width": null
          }
        },
        "deea5dcadb0340b586df4a944b9cc0e4": {
          "model_module": "@jupyter-widgets/base",
          "model_name": "LayoutModel",
          "model_module_version": "1.2.0",
          "state": {
            "_model_module": "@jupyter-widgets/base",
            "_model_module_version": "1.2.0",
            "_model_name": "LayoutModel",
            "_view_count": null,
            "_view_module": "@jupyter-widgets/base",
            "_view_module_version": "1.2.0",
            "_view_name": "LayoutView",
            "align_content": null,
            "align_items": null,
            "align_self": null,
            "border": null,
            "bottom": null,
            "display": null,
            "flex": null,
            "flex_flow": null,
            "grid_area": null,
            "grid_auto_columns": null,
            "grid_auto_flow": null,
            "grid_auto_rows": null,
            "grid_column": null,
            "grid_gap": null,
            "grid_row": null,
            "grid_template_areas": null,
            "grid_template_columns": null,
            "grid_template_rows": null,
            "height": null,
            "justify_content": null,
            "justify_items": null,
            "left": null,
            "margin": null,
            "max_height": null,
            "max_width": null,
            "min_height": null,
            "min_width": null,
            "object_fit": null,
            "object_position": null,
            "order": null,
            "overflow": null,
            "overflow_x": null,
            "overflow_y": null,
            "padding": null,
            "right": null,
            "top": null,
            "visibility": null,
            "width": null
          }
        },
        "eef243f20f4049e48006fd5a64e26cbc": {
          "model_module": "@jupyter-widgets/controls",
          "model_name": "DescriptionStyleModel",
          "model_module_version": "1.5.0",
          "state": {
            "_model_module": "@jupyter-widgets/controls",
            "_model_module_version": "1.5.0",
            "_model_name": "DescriptionStyleModel",
            "_view_count": null,
            "_view_module": "@jupyter-widgets/base",
            "_view_module_version": "1.2.0",
            "_view_name": "StyleView",
            "description_width": ""
          }
        },
        "6e106309162c49d78c06a712e6a31c8e": {
          "model_module": "@jupyter-widgets/base",
          "model_name": "LayoutModel",
          "model_module_version": "1.2.0",
          "state": {
            "_model_module": "@jupyter-widgets/base",
            "_model_module_version": "1.2.0",
            "_model_name": "LayoutModel",
            "_view_count": null,
            "_view_module": "@jupyter-widgets/base",
            "_view_module_version": "1.2.0",
            "_view_name": "LayoutView",
            "align_content": null,
            "align_items": null,
            "align_self": null,
            "border": null,
            "bottom": null,
            "display": null,
            "flex": null,
            "flex_flow": null,
            "grid_area": null,
            "grid_auto_columns": null,
            "grid_auto_flow": null,
            "grid_auto_rows": null,
            "grid_column": null,
            "grid_gap": null,
            "grid_row": null,
            "grid_template_areas": null,
            "grid_template_columns": null,
            "grid_template_rows": null,
            "height": null,
            "justify_content": null,
            "justify_items": null,
            "left": null,
            "margin": null,
            "max_height": null,
            "max_width": null,
            "min_height": null,
            "min_width": null,
            "object_fit": null,
            "object_position": null,
            "order": null,
            "overflow": null,
            "overflow_x": null,
            "overflow_y": null,
            "padding": null,
            "right": null,
            "top": null,
            "visibility": null,
            "width": null
          }
        },
        "16c574d949e0486b89d8da3ac77df29f": {
          "model_module": "@jupyter-widgets/controls",
          "model_name": "ProgressStyleModel",
          "model_module_version": "1.5.0",
          "state": {
            "_model_module": "@jupyter-widgets/controls",
            "_model_module_version": "1.5.0",
            "_model_name": "ProgressStyleModel",
            "_view_count": null,
            "_view_module": "@jupyter-widgets/base",
            "_view_module_version": "1.2.0",
            "_view_name": "StyleView",
            "bar_color": null,
            "description_width": ""
          }
        },
        "f44a734aef01492db46d40f05bf9e41d": {
          "model_module": "@jupyter-widgets/base",
          "model_name": "LayoutModel",
          "model_module_version": "1.2.0",
          "state": {
            "_model_module": "@jupyter-widgets/base",
            "_model_module_version": "1.2.0",
            "_model_name": "LayoutModel",
            "_view_count": null,
            "_view_module": "@jupyter-widgets/base",
            "_view_module_version": "1.2.0",
            "_view_name": "LayoutView",
            "align_content": null,
            "align_items": null,
            "align_self": null,
            "border": null,
            "bottom": null,
            "display": null,
            "flex": null,
            "flex_flow": null,
            "grid_area": null,
            "grid_auto_columns": null,
            "grid_auto_flow": null,
            "grid_auto_rows": null,
            "grid_column": null,
            "grid_gap": null,
            "grid_row": null,
            "grid_template_areas": null,
            "grid_template_columns": null,
            "grid_template_rows": null,
            "height": null,
            "justify_content": null,
            "justify_items": null,
            "left": null,
            "margin": null,
            "max_height": null,
            "max_width": null,
            "min_height": null,
            "min_width": null,
            "object_fit": null,
            "object_position": null,
            "order": null,
            "overflow": null,
            "overflow_x": null,
            "overflow_y": null,
            "padding": null,
            "right": null,
            "top": null,
            "visibility": null,
            "width": null
          }
        },
        "10343ca0a19b436da52f9c815ceab761": {
          "model_module": "@jupyter-widgets/controls",
          "model_name": "DescriptionStyleModel",
          "model_module_version": "1.5.0",
          "state": {
            "_model_module": "@jupyter-widgets/controls",
            "_model_module_version": "1.5.0",
            "_model_name": "DescriptionStyleModel",
            "_view_count": null,
            "_view_module": "@jupyter-widgets/base",
            "_view_module_version": "1.2.0",
            "_view_name": "StyleView",
            "description_width": ""
          }
        },
        "37ef0421585049cd8ca0427c6ef4932b": {
          "model_module": "@jupyter-widgets/controls",
          "model_name": "HBoxModel",
          "model_module_version": "1.5.0",
          "state": {
            "_dom_classes": [],
            "_model_module": "@jupyter-widgets/controls",
            "_model_module_version": "1.5.0",
            "_model_name": "HBoxModel",
            "_view_count": null,
            "_view_module": "@jupyter-widgets/controls",
            "_view_module_version": "1.5.0",
            "_view_name": "HBoxView",
            "box_style": "",
            "children": [
              "IPY_MODEL_b3509c385f09456f91681c9793bdc513",
              "IPY_MODEL_425874ed32eb40cfb8ce86a9dc41b9ca",
              "IPY_MODEL_fe950a11876048168fa2e2a3640788ff"
            ],
            "layout": "IPY_MODEL_16a711e6f9b244738bc38631578374df"
          }
        },
        "b3509c385f09456f91681c9793bdc513": {
          "model_module": "@jupyter-widgets/controls",
          "model_name": "HTMLModel",
          "model_module_version": "1.5.0",
          "state": {
            "_dom_classes": [],
            "_model_module": "@jupyter-widgets/controls",
            "_model_module_version": "1.5.0",
            "_model_name": "HTMLModel",
            "_view_count": null,
            "_view_module": "@jupyter-widgets/controls",
            "_view_module_version": "1.5.0",
            "_view_name": "HTMLView",
            "description": "",
            "description_tooltip": null,
            "layout": "IPY_MODEL_5ce04afe276a43b688b3b9269011d27e",
            "placeholder": "​",
            "style": "IPY_MODEL_16368c4736254ccaa2ada8058c08bb1b",
            "value": "Downloading: 100%"
          }
        },
        "425874ed32eb40cfb8ce86a9dc41b9ca": {
          "model_module": "@jupyter-widgets/controls",
          "model_name": "FloatProgressModel",
          "model_module_version": "1.5.0",
          "state": {
            "_dom_classes": [],
            "_model_module": "@jupyter-widgets/controls",
            "_model_module_version": "1.5.0",
            "_model_name": "FloatProgressModel",
            "_view_count": null,
            "_view_module": "@jupyter-widgets/controls",
            "_view_module_version": "1.5.0",
            "_view_name": "ProgressView",
            "bar_style": "success",
            "description": "",
            "description_tooltip": null,
            "layout": "IPY_MODEL_cb37a13193384548b1a366c4735a1ffc",
            "max": 289,
            "min": 0,
            "orientation": "horizontal",
            "style": "IPY_MODEL_fe32cc3dd5ab4cfbbe7aa9f38a8fdcb7",
            "value": 289
          }
        },
        "fe950a11876048168fa2e2a3640788ff": {
          "model_module": "@jupyter-widgets/controls",
          "model_name": "HTMLModel",
          "model_module_version": "1.5.0",
          "state": {
            "_dom_classes": [],
            "_model_module": "@jupyter-widgets/controls",
            "_model_module_version": "1.5.0",
            "_model_name": "HTMLModel",
            "_view_count": null,
            "_view_module": "@jupyter-widgets/controls",
            "_view_module_version": "1.5.0",
            "_view_name": "HTMLView",
            "description": "",
            "description_tooltip": null,
            "layout": "IPY_MODEL_f7d9f9dab7c547bea16849b7cfba5bbc",
            "placeholder": "​",
            "style": "IPY_MODEL_bcd2a91ab5ed4eb4b849aa6094083f63",
            "value": " 289/289 [00:00&lt;00:00, 5.77kB/s]"
          }
        },
        "16a711e6f9b244738bc38631578374df": {
          "model_module": "@jupyter-widgets/base",
          "model_name": "LayoutModel",
          "model_module_version": "1.2.0",
          "state": {
            "_model_module": "@jupyter-widgets/base",
            "_model_module_version": "1.2.0",
            "_model_name": "LayoutModel",
            "_view_count": null,
            "_view_module": "@jupyter-widgets/base",
            "_view_module_version": "1.2.0",
            "_view_name": "LayoutView",
            "align_content": null,
            "align_items": null,
            "align_self": null,
            "border": null,
            "bottom": null,
            "display": null,
            "flex": null,
            "flex_flow": null,
            "grid_area": null,
            "grid_auto_columns": null,
            "grid_auto_flow": null,
            "grid_auto_rows": null,
            "grid_column": null,
            "grid_gap": null,
            "grid_row": null,
            "grid_template_areas": null,
            "grid_template_columns": null,
            "grid_template_rows": null,
            "height": null,
            "justify_content": null,
            "justify_items": null,
            "left": null,
            "margin": null,
            "max_height": null,
            "max_width": null,
            "min_height": null,
            "min_width": null,
            "object_fit": null,
            "object_position": null,
            "order": null,
            "overflow": null,
            "overflow_x": null,
            "overflow_y": null,
            "padding": null,
            "right": null,
            "top": null,
            "visibility": null,
            "width": null
          }
        },
        "5ce04afe276a43b688b3b9269011d27e": {
          "model_module": "@jupyter-widgets/base",
          "model_name": "LayoutModel",
          "model_module_version": "1.2.0",
          "state": {
            "_model_module": "@jupyter-widgets/base",
            "_model_module_version": "1.2.0",
            "_model_name": "LayoutModel",
            "_view_count": null,
            "_view_module": "@jupyter-widgets/base",
            "_view_module_version": "1.2.0",
            "_view_name": "LayoutView",
            "align_content": null,
            "align_items": null,
            "align_self": null,
            "border": null,
            "bottom": null,
            "display": null,
            "flex": null,
            "flex_flow": null,
            "grid_area": null,
            "grid_auto_columns": null,
            "grid_auto_flow": null,
            "grid_auto_rows": null,
            "grid_column": null,
            "grid_gap": null,
            "grid_row": null,
            "grid_template_areas": null,
            "grid_template_columns": null,
            "grid_template_rows": null,
            "height": null,
            "justify_content": null,
            "justify_items": null,
            "left": null,
            "margin": null,
            "max_height": null,
            "max_width": null,
            "min_height": null,
            "min_width": null,
            "object_fit": null,
            "object_position": null,
            "order": null,
            "overflow": null,
            "overflow_x": null,
            "overflow_y": null,
            "padding": null,
            "right": null,
            "top": null,
            "visibility": null,
            "width": null
          }
        },
        "16368c4736254ccaa2ada8058c08bb1b": {
          "model_module": "@jupyter-widgets/controls",
          "model_name": "DescriptionStyleModel",
          "model_module_version": "1.5.0",
          "state": {
            "_model_module": "@jupyter-widgets/controls",
            "_model_module_version": "1.5.0",
            "_model_name": "DescriptionStyleModel",
            "_view_count": null,
            "_view_module": "@jupyter-widgets/base",
            "_view_module_version": "1.2.0",
            "_view_name": "StyleView",
            "description_width": ""
          }
        },
        "cb37a13193384548b1a366c4735a1ffc": {
          "model_module": "@jupyter-widgets/base",
          "model_name": "LayoutModel",
          "model_module_version": "1.2.0",
          "state": {
            "_model_module": "@jupyter-widgets/base",
            "_model_module_version": "1.2.0",
            "_model_name": "LayoutModel",
            "_view_count": null,
            "_view_module": "@jupyter-widgets/base",
            "_view_module_version": "1.2.0",
            "_view_name": "LayoutView",
            "align_content": null,
            "align_items": null,
            "align_self": null,
            "border": null,
            "bottom": null,
            "display": null,
            "flex": null,
            "flex_flow": null,
            "grid_area": null,
            "grid_auto_columns": null,
            "grid_auto_flow": null,
            "grid_auto_rows": null,
            "grid_column": null,
            "grid_gap": null,
            "grid_row": null,
            "grid_template_areas": null,
            "grid_template_columns": null,
            "grid_template_rows": null,
            "height": null,
            "justify_content": null,
            "justify_items": null,
            "left": null,
            "margin": null,
            "max_height": null,
            "max_width": null,
            "min_height": null,
            "min_width": null,
            "object_fit": null,
            "object_position": null,
            "order": null,
            "overflow": null,
            "overflow_x": null,
            "overflow_y": null,
            "padding": null,
            "right": null,
            "top": null,
            "visibility": null,
            "width": null
          }
        },
        "fe32cc3dd5ab4cfbbe7aa9f38a8fdcb7": {
          "model_module": "@jupyter-widgets/controls",
          "model_name": "ProgressStyleModel",
          "model_module_version": "1.5.0",
          "state": {
            "_model_module": "@jupyter-widgets/controls",
            "_model_module_version": "1.5.0",
            "_model_name": "ProgressStyleModel",
            "_view_count": null,
            "_view_module": "@jupyter-widgets/base",
            "_view_module_version": "1.2.0",
            "_view_name": "StyleView",
            "bar_color": null,
            "description_width": ""
          }
        },
        "f7d9f9dab7c547bea16849b7cfba5bbc": {
          "model_module": "@jupyter-widgets/base",
          "model_name": "LayoutModel",
          "model_module_version": "1.2.0",
          "state": {
            "_model_module": "@jupyter-widgets/base",
            "_model_module_version": "1.2.0",
            "_model_name": "LayoutModel",
            "_view_count": null,
            "_view_module": "@jupyter-widgets/base",
            "_view_module_version": "1.2.0",
            "_view_name": "LayoutView",
            "align_content": null,
            "align_items": null,
            "align_self": null,
            "border": null,
            "bottom": null,
            "display": null,
            "flex": null,
            "flex_flow": null,
            "grid_area": null,
            "grid_auto_columns": null,
            "grid_auto_flow": null,
            "grid_auto_rows": null,
            "grid_column": null,
            "grid_gap": null,
            "grid_row": null,
            "grid_template_areas": null,
            "grid_template_columns": null,
            "grid_template_rows": null,
            "height": null,
            "justify_content": null,
            "justify_items": null,
            "left": null,
            "margin": null,
            "max_height": null,
            "max_width": null,
            "min_height": null,
            "min_width": null,
            "object_fit": null,
            "object_position": null,
            "order": null,
            "overflow": null,
            "overflow_x": null,
            "overflow_y": null,
            "padding": null,
            "right": null,
            "top": null,
            "visibility": null,
            "width": null
          }
        },
        "bcd2a91ab5ed4eb4b849aa6094083f63": {
          "model_module": "@jupyter-widgets/controls",
          "model_name": "DescriptionStyleModel",
          "model_module_version": "1.5.0",
          "state": {
            "_model_module": "@jupyter-widgets/controls",
            "_model_module_version": "1.5.0",
            "_model_name": "DescriptionStyleModel",
            "_view_count": null,
            "_view_module": "@jupyter-widgets/base",
            "_view_module_version": "1.2.0",
            "_view_name": "StyleView",
            "description_width": ""
          }
        },
        "b7c06941dc614d65a32b85188da20bda": {
          "model_module": "@jupyter-widgets/controls",
          "model_name": "HBoxModel",
          "model_module_version": "1.5.0",
          "state": {
            "_dom_classes": [],
            "_model_module": "@jupyter-widgets/controls",
            "_model_module_version": "1.5.0",
            "_model_name": "HBoxModel",
            "_view_count": null,
            "_view_module": "@jupyter-widgets/controls",
            "_view_module_version": "1.5.0",
            "_view_name": "HBoxView",
            "box_style": "",
            "children": [
              "IPY_MODEL_b2d070b8ed914b52a3cf4c57f52be071",
              "IPY_MODEL_7f5ff135fa644e4a96bf6f616d655c19",
              "IPY_MODEL_3a9bfff8d2694fb894ea55b4cbb45c4b"
            ],
            "layout": "IPY_MODEL_2bd64d4e034a4f94b88a9c1a163960bf"
          }
        },
        "b2d070b8ed914b52a3cf4c57f52be071": {
          "model_module": "@jupyter-widgets/controls",
          "model_name": "HTMLModel",
          "model_module_version": "1.5.0",
          "state": {
            "_dom_classes": [],
            "_model_module": "@jupyter-widgets/controls",
            "_model_module_version": "1.5.0",
            "_model_name": "HTMLModel",
            "_view_count": null,
            "_view_module": "@jupyter-widgets/controls",
            "_view_module_version": "1.5.0",
            "_view_name": "HTMLView",
            "description": "",
            "description_tooltip": null,
            "layout": "IPY_MODEL_716c066f6adb4f1b89d5abfd7d84a678",
            "placeholder": "​",
            "style": "IPY_MODEL_477368b9682043a69b417c60f744b266",
            "value": "Downloading: 100%"
          }
        },
        "7f5ff135fa644e4a96bf6f616d655c19": {
          "model_module": "@jupyter-widgets/controls",
          "model_name": "FloatProgressModel",
          "model_module_version": "1.5.0",
          "state": {
            "_dom_classes": [],
            "_model_module": "@jupyter-widgets/controls",
            "_model_module_version": "1.5.0",
            "_model_name": "FloatProgressModel",
            "_view_count": null,
            "_view_module": "@jupyter-widgets/controls",
            "_view_module_version": "1.5.0",
            "_view_name": "ProgressView",
            "bar_style": "success",
            "description": "",
            "description_tooltip": null,
            "layout": "IPY_MODEL_6657d0ccb43246dc9375b4fd6430ecd1",
            "max": 425,
            "min": 0,
            "orientation": "horizontal",
            "style": "IPY_MODEL_09aa6bc554334390a82f211dc2632917",
            "value": 425
          }
        },
        "3a9bfff8d2694fb894ea55b4cbb45c4b": {
          "model_module": "@jupyter-widgets/controls",
          "model_name": "HTMLModel",
          "model_module_version": "1.5.0",
          "state": {
            "_dom_classes": [],
            "_model_module": "@jupyter-widgets/controls",
            "_model_module_version": "1.5.0",
            "_model_name": "HTMLModel",
            "_view_count": null,
            "_view_module": "@jupyter-widgets/controls",
            "_view_module_version": "1.5.0",
            "_view_name": "HTMLView",
            "description": "",
            "description_tooltip": null,
            "layout": "IPY_MODEL_3302666d768b4b5fba9dc3c5161fee37",
            "placeholder": "​",
            "style": "IPY_MODEL_98fb543020df498d9755a911b9ba783b",
            "value": " 425/425 [00:00&lt;00:00, 7.86kB/s]"
          }
        },
        "2bd64d4e034a4f94b88a9c1a163960bf": {
          "model_module": "@jupyter-widgets/base",
          "model_name": "LayoutModel",
          "model_module_version": "1.2.0",
          "state": {
            "_model_module": "@jupyter-widgets/base",
            "_model_module_version": "1.2.0",
            "_model_name": "LayoutModel",
            "_view_count": null,
            "_view_module": "@jupyter-widgets/base",
            "_view_module_version": "1.2.0",
            "_view_name": "LayoutView",
            "align_content": null,
            "align_items": null,
            "align_self": null,
            "border": null,
            "bottom": null,
            "display": null,
            "flex": null,
            "flex_flow": null,
            "grid_area": null,
            "grid_auto_columns": null,
            "grid_auto_flow": null,
            "grid_auto_rows": null,
            "grid_column": null,
            "grid_gap": null,
            "grid_row": null,
            "grid_template_areas": null,
            "grid_template_columns": null,
            "grid_template_rows": null,
            "height": null,
            "justify_content": null,
            "justify_items": null,
            "left": null,
            "margin": null,
            "max_height": null,
            "max_width": null,
            "min_height": null,
            "min_width": null,
            "object_fit": null,
            "object_position": null,
            "order": null,
            "overflow": null,
            "overflow_x": null,
            "overflow_y": null,
            "padding": null,
            "right": null,
            "top": null,
            "visibility": null,
            "width": null
          }
        },
        "716c066f6adb4f1b89d5abfd7d84a678": {
          "model_module": "@jupyter-widgets/base",
          "model_name": "LayoutModel",
          "model_module_version": "1.2.0",
          "state": {
            "_model_module": "@jupyter-widgets/base",
            "_model_module_version": "1.2.0",
            "_model_name": "LayoutModel",
            "_view_count": null,
            "_view_module": "@jupyter-widgets/base",
            "_view_module_version": "1.2.0",
            "_view_name": "LayoutView",
            "align_content": null,
            "align_items": null,
            "align_self": null,
            "border": null,
            "bottom": null,
            "display": null,
            "flex": null,
            "flex_flow": null,
            "grid_area": null,
            "grid_auto_columns": null,
            "grid_auto_flow": null,
            "grid_auto_rows": null,
            "grid_column": null,
            "grid_gap": null,
            "grid_row": null,
            "grid_template_areas": null,
            "grid_template_columns": null,
            "grid_template_rows": null,
            "height": null,
            "justify_content": null,
            "justify_items": null,
            "left": null,
            "margin": null,
            "max_height": null,
            "max_width": null,
            "min_height": null,
            "min_width": null,
            "object_fit": null,
            "object_position": null,
            "order": null,
            "overflow": null,
            "overflow_x": null,
            "overflow_y": null,
            "padding": null,
            "right": null,
            "top": null,
            "visibility": null,
            "width": null
          }
        },
        "477368b9682043a69b417c60f744b266": {
          "model_module": "@jupyter-widgets/controls",
          "model_name": "DescriptionStyleModel",
          "model_module_version": "1.5.0",
          "state": {
            "_model_module": "@jupyter-widgets/controls",
            "_model_module_version": "1.5.0",
            "_model_name": "DescriptionStyleModel",
            "_view_count": null,
            "_view_module": "@jupyter-widgets/base",
            "_view_module_version": "1.2.0",
            "_view_name": "StyleView",
            "description_width": ""
          }
        },
        "6657d0ccb43246dc9375b4fd6430ecd1": {
          "model_module": "@jupyter-widgets/base",
          "model_name": "LayoutModel",
          "model_module_version": "1.2.0",
          "state": {
            "_model_module": "@jupyter-widgets/base",
            "_model_module_version": "1.2.0",
            "_model_name": "LayoutModel",
            "_view_count": null,
            "_view_module": "@jupyter-widgets/base",
            "_view_module_version": "1.2.0",
            "_view_name": "LayoutView",
            "align_content": null,
            "align_items": null,
            "align_self": null,
            "border": null,
            "bottom": null,
            "display": null,
            "flex": null,
            "flex_flow": null,
            "grid_area": null,
            "grid_auto_columns": null,
            "grid_auto_flow": null,
            "grid_auto_rows": null,
            "grid_column": null,
            "grid_gap": null,
            "grid_row": null,
            "grid_template_areas": null,
            "grid_template_columns": null,
            "grid_template_rows": null,
            "height": null,
            "justify_content": null,
            "justify_items": null,
            "left": null,
            "margin": null,
            "max_height": null,
            "max_width": null,
            "min_height": null,
            "min_width": null,
            "object_fit": null,
            "object_position": null,
            "order": null,
            "overflow": null,
            "overflow_x": null,
            "overflow_y": null,
            "padding": null,
            "right": null,
            "top": null,
            "visibility": null,
            "width": null
          }
        },
        "09aa6bc554334390a82f211dc2632917": {
          "model_module": "@jupyter-widgets/controls",
          "model_name": "ProgressStyleModel",
          "model_module_version": "1.5.0",
          "state": {
            "_model_module": "@jupyter-widgets/controls",
            "_model_module_version": "1.5.0",
            "_model_name": "ProgressStyleModel",
            "_view_count": null,
            "_view_module": "@jupyter-widgets/base",
            "_view_module_version": "1.2.0",
            "_view_name": "StyleView",
            "bar_color": null,
            "description_width": ""
          }
        },
        "3302666d768b4b5fba9dc3c5161fee37": {
          "model_module": "@jupyter-widgets/base",
          "model_name": "LayoutModel",
          "model_module_version": "1.2.0",
          "state": {
            "_model_module": "@jupyter-widgets/base",
            "_model_module_version": "1.2.0",
            "_model_name": "LayoutModel",
            "_view_count": null,
            "_view_module": "@jupyter-widgets/base",
            "_view_module_version": "1.2.0",
            "_view_name": "LayoutView",
            "align_content": null,
            "align_items": null,
            "align_self": null,
            "border": null,
            "bottom": null,
            "display": null,
            "flex": null,
            "flex_flow": null,
            "grid_area": null,
            "grid_auto_columns": null,
            "grid_auto_flow": null,
            "grid_auto_rows": null,
            "grid_column": null,
            "grid_gap": null,
            "grid_row": null,
            "grid_template_areas": null,
            "grid_template_columns": null,
            "grid_template_rows": null,
            "height": null,
            "justify_content": null,
            "justify_items": null,
            "left": null,
            "margin": null,
            "max_height": null,
            "max_width": null,
            "min_height": null,
            "min_width": null,
            "object_fit": null,
            "object_position": null,
            "order": null,
            "overflow": null,
            "overflow_x": null,
            "overflow_y": null,
            "padding": null,
            "right": null,
            "top": null,
            "visibility": null,
            "width": null
          }
        },
        "98fb543020df498d9755a911b9ba783b": {
          "model_module": "@jupyter-widgets/controls",
          "model_name": "DescriptionStyleModel",
          "model_module_version": "1.5.0",
          "state": {
            "_model_module": "@jupyter-widgets/controls",
            "_model_module_version": "1.5.0",
            "_model_name": "DescriptionStyleModel",
            "_view_count": null,
            "_view_module": "@jupyter-widgets/base",
            "_view_module_version": "1.2.0",
            "_view_name": "StyleView",
            "description_width": ""
          }
        }
      }
    }
  },
  "nbformat": 4,
  "nbformat_minor": 0
}