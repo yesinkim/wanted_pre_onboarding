{
  "nbformat": 4,
  "nbformat_minor": 0,
  "metadata": {
    "colab": {
      "name": "9팀_김예신_문제1.ipynb",
      "provenance": [],
      "collapsed_sections": [],
      "authorship_tag": "ABX9TyOKB9Hm1M/9eyRn43JLfo7z"
    },
    "kernelspec": {
      "name": "python3",
      "display_name": "Python 3"
    },
    "language_info": {
      "name": "python"
    }
  },
  "cells": [
    {
      "cell_type": "markdown",
      "source": [
        "# **문자열 매칭 알고리즘 구현**\n",
        "\n",
        "```\n",
        "문자열 집합 S가 존재한다 ex) S = {\"www\",\"xman\",\"yman\"}. 임의의 문자열이 N개 주어졌을때 각 임의의 문자열 내에 집합 S에 속하는 문자열이 존재하는지 판별하시오.\n",
        "```\n",
        "\n",
        "## **문제**\n",
        "아래의 문제를 순서대로 작성하세요. 1번만 푸셔도 됩니다.\n",
        "1. 문자열의 여러 부분 문자열 중 하나라도 집합 S에 있으면 'YES'를 출력하고, 아무것도\n",
        "없으면 'NO'를 출력한다.\n",
        "2. 주어진 문자열의 여러부분 문자열 중 처음 매칭된 패턴과 문자열 시작 포지션을 출력한\n",
        "다.\n",
        "3. 주어진 문자열의 여러부분 문자열 중 매칭 가능한 모든 패턴과 문자열 시작 포지션을 출\n",
        "력한다.\n",
        "\n",
        "\n",
        "\n",
        "### **입력**\n",
        "1. 첫째 줄에 집합 S의 크기 N이 주어진다. (1 ≤ N ≤ 1000)\n",
        "2. 다음 N개 줄에 집합 S의 원소들이 주어진다. 이 문자열의 길이는 100을 넘지 않는다.\n",
        "3. 다음 줄에 답을 판별해야 하는 문자열의 개수 Q가 주어진다. (1 ≤ Q ≤ 1000)\n",
        "4. 다음 Q개 줄에 답을 판별해야 하는 문자열이 주어진다. 이 문자열의 길이는 10000을 넘지\n",
        "않는다.\n",
        "5. 입력으로 주어지는 모든 문자열은 알파벳 소문자로만 이루어져 있다.\n",
        "\n",
        "\n",
        "### **출력**\n",
        "Q개 줄에 각 문자열에 대한 답을 출력한다.\n",
        "\n",
        "\n",
        "\n",
        "## **예제**\n",
        "      9(문자열 집합S의 원소 개수)\n",
        "      \"aaa\",\"\"aaaabb\", \"\"aabbcc\", \"abb\", \"bcc\", \"bbcc\", \"aabbccdd\", \"aaabb”, “cccd”\n",
        "      (comma, new line 구분은 자유)\n",
        "      1(매칭 대상 문자열 수)\n",
        "      \"aaaabbaabbccdd\"\n",
        "\n",
        "\n",
        "## **예제출력**\n",
        "1. 문자열 집합 중 “cccd”만 주어진 문자열의 부분 문자열에 속하지 않으므로 YES, YES,\n",
        "YES, YES, YES, YES, YES, YES, NO 이다.\n",
        "2. 아래와같이 첫번째로 매칭된 패턴의 시작포지션과 문자열 패턴을 출력한다.\n",
        "        #pos = 0, pattern = aaa\n",
        "        #pos = 0, pattern = aaaabb\n",
        "        #pos = 6, pattern = aabbcc\n",
        "        #pos = 3, pattern = abb\n",
        "        #pos = 9, pattern = bcc\n",
        "        #pos = 8, pattern = bbcc\n",
        "        #pos = 6, pattern = aabbccdd\n",
        "        #pos = 1, pattern = aaabb\n",
        "3. 아래와같이 가능한 모든 문자열 패턴의 시작 포지션과 문자열 패턴을 출력한다.\n",
        "        #pos = 0, pattern = aaa\n",
        "        #pos = 1, pattern = aaa\n",
        "        #pos = 1, pattern = aaabb\n",
        "        #pos = 3, pattern = abb\n",
        "        #pos = 0, pattern = aaaabb\n",
        "        #pos = 7, pattern = abb\n",
        "        #pos = 8, pattern = bbcc\n",
        "        #pos = 9, pattern = bcc\n",
        "        #pos = 6, pattern = aabbcc\n",
        "        #pos = 6, pattern = aabbccdd"
      ],
      "metadata": {
        "id": "IVhCZjDHAJ4y"
      }
    },
    {
      "cell_type": "code",
      "source": [
        "# 예시 집합 S 정의\n",
        "S = {\"aaa\",\"aaaabb\", \"aabbcc\", \"abb\", \"bcc\", \"bbcc\", \"aabbccdd\", \"aaabb\", \"cccd\"}\n",
        "\n",
        "# S 집합이 미리 정의되어 있는 것인지 아닌것인지 불명확해\n",
        "# 사용자 입력 input()을 이용함"
      ],
      "metadata": {
        "id": "wddxS_6YPwXL"
      },
      "execution_count": null,
      "outputs": []
    },
    {
      "cell_type": "code",
      "source": [
        "# 집합 S의 크기 N\n",
        "N = int(input(\"집합 S의 크기 N (1<=N<=1000):\\n\"))\n",
        "S = []\n",
        "\n",
        "# 집합 S의 원소 입력\n",
        "i=0\n",
        "while True:\n",
        "  S.append(input(\"집합 S의 원소 : \").lower())\n",
        "  i+=1\n",
        "  if i == N:\n",
        "    break\n",
        "\n",
        "# 매칭 문자열 수\n",
        "Q = int(input(\"문자열의 개수 Q (1<=Q<=1000): \\n\"))\n",
        "M = []\n",
        "\n",
        "# 매칭 문자열 입력\n",
        "i=0\n",
        "while True:\n",
        "  M.append(input(\"매칭문자열 :\").lower())\n",
        "  i+=1\n",
        "  if i == Q:\n",
        "    break"
      ],
      "metadata": {
        "colab": {
          "base_uri": "https://localhost:8080/"
        },
        "id": "hoZCiiPkPhpT",
        "outputId": "0828efce-18b5-4510-fcd9-fb8bb30bf403"
      },
      "execution_count": null,
      "outputs": [
        {
          "name": "stdout",
          "output_type": "stream",
          "text": [
            "집합 S의 크기 N (1<=N<=1000):\n",
            "9\n",
            "집합 S의 원소 : aaa\n",
            "집합 S의 원소 : aaaabb\n",
            "집합 S의 원소 : aabbcc\n",
            "집합 S의 원소 : abb\n",
            "집합 S의 원소 : bcc\n",
            "집합 S의 원소 : bbcc\n",
            "집합 S의 원소 : aabbccdd\n",
            "집합 S의 원소 : aaabb\n",
            "집합 S의 원소 : cccd\n",
            "문자열의 개수 Q (1<=Q<=1000): \n",
            "1\n",
            "매칭문자열 :aaaabbaabbccdd\n"
          ]
        }
      ]
    },
    {
      "cell_type": "code",
      "source": [
        "print(f\"집합 크기 : {N} \\n집합 S : {S}, \\n매칭문자열 크기 : {Q}, \\n매칭문자열 : {M}\")"
      ],
      "metadata": {
        "id": "SXssmLBXdSeX",
        "outputId": "3257ac36-dcc9-4b0c-a3f9-1ddd0212d5ad",
        "colab": {
          "base_uri": "https://localhost:8080/"
        }
      },
      "execution_count": null,
      "outputs": [
        {
          "output_type": "stream",
          "name": "stdout",
          "text": [
            "집합 크기 : 9 \n",
            "집합 S : ['aaa', 'aaaabb', 'aabbcc', 'abb', 'bcc', 'bbcc', 'aabbccdd', 'aaabb', 'cccd'], \n",
            "매칭문자열 크기 : 1, \n",
            "매칭문자열 : ['aaaabbaabbccdd']\n"
          ]
        }
      ]
    },
    {
      "cell_type": "code",
      "source": [
        "# Q1. 문자열의 여러 부분 문자열 중 하나라도 집합 S에 있으면 'YES'를 출력하고, 아무것도 없으면 'NO'를 출력한다.\n",
        "\n",
        "for m in M:\n",
        "  answer = 'NO'\n",
        "  for s in S:\n",
        "    if s in m:\n",
        "      answer = 'YES'\n",
        "print(answer)"
      ],
      "metadata": {
        "colab": {
          "base_uri": "https://localhost:8080/"
        },
        "id": "J-1M1Q6fRV36",
        "outputId": "3637e744-56b0-40fe-c0ef-1645d1ba60a3"
      },
      "execution_count": null,
      "outputs": [
        {
          "output_type": "stream",
          "name": "stdout",
          "text": [
            "YES\n"
          ]
        }
      ]
    },
    {
      "cell_type": "code",
      "source": [
        "for s in S:\n",
        "  print(s)"
      ],
      "metadata": {
        "id": "fDMBZFT_ec5F",
        "outputId": "480349fa-5682-45a6-ca0d-14c1f5f61190",
        "colab": {
          "base_uri": "https://localhost:8080/"
        }
      },
      "execution_count": null,
      "outputs": [
        {
          "output_type": "stream",
          "name": "stdout",
          "text": [
            "aaa\n",
            "aaaabb\n",
            "aabbcc\n",
            "abb\n",
            "bcc\n",
            "bbcc\n",
            "aabbccdd\n",
            "aaabb\n",
            "cccd\n"
          ]
        }
      ]
    },
    {
      "cell_type": "code",
      "source": [
        "# Q2. 아래와같이 첫번째로 매칭된 패턴의 시작포지션과 문자열 패턴을 출력한다.\n",
        "for s in S:\n",
        "  idx = M[0].find(s)\n",
        "  if idx >= 0:\n",
        "    print(f\"#pos = {idx}, pattern = {s}\")"
      ],
      "metadata": {
        "id": "U8lISkQQd9pq",
        "outputId": "e9013074-63d0-46ec-93e4-6fc905d25b4f",
        "colab": {
          "base_uri": "https://localhost:8080/"
        }
      },
      "execution_count": null,
      "outputs": [
        {
          "output_type": "stream",
          "name": "stdout",
          "text": [
            "#pos = 0, pattern = aaa\n",
            "#pos = 0, pattern = aaaabb\n",
            "#pos = 6, pattern = aabbcc\n",
            "#pos = 3, pattern = abb\n",
            "#pos = 9, pattern = bcc\n",
            "#pos = 8, pattern = bbcc\n",
            "#pos = 6, pattern = aabbccdd\n",
            "#pos = 1, pattern = aaabb\n"
          ]
        }
      ]
    }
  ]
}